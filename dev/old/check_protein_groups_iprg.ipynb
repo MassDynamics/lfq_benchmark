{
 "metadata": {
  "language_info": {
   "codemirror_mode": {
    "name": "ipython",
    "version": 3
   },
   "file_extension": ".py",
   "mimetype": "text/x-python",
   "name": "python",
   "nbconvert_exporter": "python",
   "pygments_lexer": "ipython3",
   "version": "3.7.7-final"
  },
  "orig_nbformat": 2,
  "kernelspec": {
   "name": "python3",
   "display_name": "Python 3",
   "language": "python"
  }
 },
 "nbformat": 4,
 "nbformat_minor": 2,
 "cells": [
  {
   "cell_type": "code",
   "execution_count": 42,
   "metadata": {},
   "outputs": [
    {
     "output_type": "stream",
     "name": "stdout",
     "text": [
      "Reverse\n",
      "(3314, 93)\n",
      "6\n",
      "apply filter\n",
      "(3276, 93)\n",
      "6\n",
      "\n",
      "Only identified by site\n",
      "(3276, 93)\n",
      "6\n",
      "apply filter\n",
      "(3270, 93)\n",
      "6\n",
      "\n",
      "Potential contaminant\n",
      "(3270, 93)\n",
      "6\n",
      "apply filter\n",
      "(3260, 93)\n",
      "6\n",
      "\n"
     ]
    }
   ],
   "source": [
    "import pandas as pd\n",
    "import numpy as np\n",
    "\n",
    "iprg  = pd.read_csv(\"../protein_groups/proteinGroups_iPRG2015.txt\", sep = \"\\t\")\n",
    "iPRG_proteins = {\"P44015\", \"P55752\",\"P44374\", \"P44983\", \"P44683\",\"P55249\"}\n",
    "cols = ['Reverse','Only identified by site','Potential contaminant']\n",
    "for col in cols:\n",
    "    print(col)\n",
    "    print(iprg.shape)\n",
    "    print(sum([np.any([(j in i) for j in iPRG_proteins]) for i in iprg[\"Majority protein IDs\"]]))\n",
    "    print(\"apply filter\")\n",
    "    iprg = iprg[iprg[col] != \"+\"]\n",
    "    print(iprg.shape)\n",
    "    print(sum([np.any([(j in i) for j in iPRG_proteins]) for i in iprg[\"Majority protein IDs\"]]))\n",
    "    print()\n",
    "    \n"
   ]
  },
  {
   "source": [
    "No iPRG proteins should be lost. "
   ],
   "cell_type": "markdown",
   "metadata": {}
  },
  {
   "cell_type": "code",
   "execution_count": null,
   "metadata": {},
   "outputs": [],
   "source": []
  }
 ]
}