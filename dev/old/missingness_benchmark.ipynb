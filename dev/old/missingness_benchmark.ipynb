{
 "metadata": {
  "language_info": {
   "codemirror_mode": {
    "name": "ipython",
    "version": 3
   },
   "file_extension": ".py",
   "mimetype": "text/x-python",
   "name": "python",
   "nbconvert_exporter": "python",
   "pygments_lexer": "ipython3",
   "version": "3.7.7-final"
  },
  "orig_nbformat": 2,
  "kernelspec": {
   "name": "python3",
   "display_name": "Python 3",
   "language": "python"
  }
 },
 "nbformat": 4,
 "nbformat_minor": 2,
 "cells": [
  {
   "source": [
    "# Discovery Missingness Benchmark\n",
    "\n",
    "### Things we care about:\n",
    "* 1. Missingness (peptide level) (done?)\n",
    "* 2. Better accuracy (refer to other benchmark) # this depends on your downstream data\n",
    "* 3. CV in protein groups (it is)\n",
    "* 4. Number of unique protein groups on same data set (easy)"
   ],
   "cell_type": "markdown",
   "metadata": {}
  },
  {
   "cell_type": "code",
   "execution_count": 40,
   "metadata": {},
   "outputs": [
    {
     "output_type": "execute_result",
     "data": {
      "text/plain": [
       "0.19096219732840589"
      ]
     },
     "metadata": {},
     "execution_count": 40
    }
   ],
   "source": [
    "import pandas as pd\n",
    "experiment_home = \"/mnt/d/Dropbox/MassDynamics_local/experiments/Missingness_Discovery/iPRG2015_discovery_19_1_21\"\n",
    "peptide_table = pd.read_csv(os.path.join(experiment_home,\"Peptide_table.txt\"), sep = \"\\t\")\n",
    "f = lambda x: (x.filter(regex = \"logFC\").isna().sum().sum())/(x.filter(regex = \"logFC\").shape[0]*x.filter(regex = \"logFC\").shape[1])\n",
    "f(peptide_table)"
   ]
  },
  {
   "cell_type": "code",
   "execution_count": 47,
   "metadata": {},
   "outputs": [
    {
     "output_type": "execute_result",
     "data": {
      "text/plain": [
       "0.3250459144679055"
      ]
     },
     "metadata": {},
     "execution_count": 47
    }
   ],
   "source": [
    "import pandas as pd\n",
    "experiment_home = \"/mnt/d/Dropbox/MassDynamics_local/experiments/Missingness_Discovery/MQ_19_1_21\" # Didn't use match between runs\n",
    "peptide_table = pd.read_csv(os.path.join(experiment_home,\"peptides_quant.txt\"), sep = \"\\t\")\n",
    "f = lambda x: (x.filter(regex = \"logFC\").isna().sum().sum())/(x.filter(regex = \"logFC\").shape[0]*x.filter(regex = \"logFC\").shape[1])\n",
    "f(peptide_table)"
   ]
  },
  {
   "cell_type": "code",
   "execution_count": null,
   "metadata": {},
   "outputs": [],
   "source": []
  }
 ]
}