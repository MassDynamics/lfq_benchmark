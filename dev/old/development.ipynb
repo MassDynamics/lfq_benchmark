{
 "metadata": {
  "language_info": {
   "codemirror_mode": {
    "name": "ipython",
    "version": 3
   },
   "file_extension": ".py",
   "mimetype": "text/x-python",
   "name": "python",
   "nbconvert_exporter": "python",
   "pygments_lexer": "ipython3",
   "version": "3.8.3-final"
  },
  "orig_nbformat": 2,
  "kernelspec": {
   "name": "python3",
   "display_name": "Python 3",
   "language": "python"
  }
 },
 "nbformat": 4,
 "nbformat_minor": 2,
 "cells": [
  {
   "cell_type": "code",
   "execution_count": null,
   "metadata": {},
   "outputs": [],
   "source": [
    "from benchmarkers import IPRG2015Benchmarker, UPSBenchmarker, HerStudyBenchmarker\n",
    "from confusion_matrix_calculator import ConfusionMatrixCalculator   "
   ]
  },
  {
   "source": [
    "# Process and Compare results for Breast Cancer Study:"
   ],
   "cell_type": "markdown",
   "metadata": {}
  },
  {
   "cell_type": "code",
   "execution_count": null,
   "metadata": {},
   "outputs": [],
   "source": [
    "from functools import partial\n",
    "from rpy2 import robjects\n",
    "from rpy2.ipython import html\n",
    "import rpy2.ipython.html\n",
    "from rpy2.robjects.packages import importr\n",
    "import rpy2.robjects.packages as rpackages\n",
    "import os\n",
    "from IPython.display import Image\n",
    "def install_r_packages(packnames):\n",
    "        from rpy2.robjects.vectors import StrVector\n",
    "        names_to_install = [x for x in packnames if not rpackages.isinstalled(x)]\n",
    "        utils.chooseCRANmirror(ind=1)\n",
    "        if len(names_to_install) > 0:\n",
    "            utils.install_packages(StrVector(names_to_install))\n",
    "# required for running R plotting stuff\n",
    "base = importr('base')\n",
    "utils = importr('utils')\n",
    "install_r_packages(\"ggplot2\")"
   ]
  },
  {
   "cell_type": "code",
   "execution_count": null,
   "metadata": {},
   "outputs": [],
   "source": [
    "from benchmarkers import IPRG2015Benchmarker, UPSBenchmarker, HerStudyBenchmarker\n",
    "from rplotting import RPlotting\n",
    "\n",
    "experiment_home = \"/mnt/d/Dropbox/MassDynamics_local/experiments/her_study/byo\"\n",
    "bm2 = HerStudyBenchmarker(experiment_home, \"BYO\")\n",
    "experiment_home = \"/mnt/d/Dropbox/MassDynamics_local/experiments/her_study/perseus\"\n",
    "bm1 = HerStudyBenchmarker(experiment_home, \"Perseus\")\n",
    "\n",
    "RPlotting().compare_log_FCs(bm1,bm2)"
   ]
  },
  {
   "cell_type": "code",
   "execution_count": null,
   "metadata": {},
   "outputs": [],
   "source": [
    "RPlotting().compare_q_values(bm1,bm2, logy=True, logx=True)"
   ]
  },
  {
   "cell_type": "code",
   "execution_count": null,
   "metadata": {},
   "outputs": [],
   "source": [
    "from benchmarkers import IPRG2015Benchmarker, UPSBenchmarker, HerStudyBenchmarker\n",
    "import rpy2\n",
    "from rplotting import RPlotting\n",
    "\n",
    "mq_home = \"/mnt/d/Dropbox/MassDynamics_local/experiments/ups_new/Perseus/\"\n",
    "bm1 = UPSBenchmarker(mq_home, mode = \"Perseus\")\n",
    "mq_home = \"/mnt/d/Dropbox/MassDynamics_local/experiments/ups_new/BYO_2\"\n",
    "bm2 = UPSBenchmarker(mq_home, mode = \"BYO\")\n",
    "RPlotting().compare_log_FCs(bm1,bm2)"
   ]
  },
  {
   "cell_type": "code",
   "execution_count": null,
   "metadata": {},
   "outputs": [],
   "source": [
    "RPlotting().compare_q_values(bm1,bm2,False,True)"
   ]
  },
  {
   "cell_type": "code",
   "execution_count": null,
   "metadata": {},
   "outputs": [],
   "source": [
    "from benchmarkers import IPRG2015Benchmarker, UPSBenchmarker, HerStudyBenchmarker\n",
    "from rplotting import RPlotting\n",
    "mq_home = \"/mnt/d/Dropbox/MassDynamics_local/experiments/IPRG2015_MQ_BYO/\"\n",
    "bm2 = IPRG2015Benchmarker(mq_home, \"BYO\")\n",
    "mq_home =\"/mnt/d/Dropbox/MassDynamics_local/experiments/IPRG2015_MQ_Perseus/\"\n",
    "bm1 = IPRG2015Benchmarker(mq_home, \"Perseus\")\n",
    "RPlotting().compare_log_FCs(bm1,bm2,15)"
   ]
  },
  {
   "cell_type": "code",
   "execution_count": null,
   "metadata": {},
   "outputs": [],
   "source": [
    "RPlotting().compare_q_values(bm1,bm2, logy=True, logx = True, nbins = 15)"
   ]
  },
  {
   "cell_type": "code",
   "execution_count": null,
   "metadata": {},
   "outputs": [],
   "source": [
    "bm2.protein_table"
   ]
  },
  {
   "source": [
    "#Find All proteins required for benchmarking\n"
   ],
   "cell_type": "markdown",
   "metadata": {}
  },
  {
   "cell_type": "code",
   "execution_count": null,
   "metadata": {},
   "outputs": [],
   "source": []
  },
  {
   "source": [
    "# Understand raw data and preprocessing implications"
   ],
   "cell_type": "markdown",
   "metadata": {}
  },
  {
   "cell_type": "code",
   "execution_count": null,
   "metadata": {},
   "outputs": [],
   "source": [
    "import os \n",
    "import pandas as pd  \n",
    "mq_home = \"/mnt/d/Dropbox/MassDynamics_local/experiments/IPRG2015_MQ_Perseus/\"\n",
    "raw_data = pd.read_csv(os.path.join(mq_home, \"Upload\",\"ProteinGroups.txt\"), sep = \"\\t\")"
   ]
  },
  {
   "cell_type": "code",
   "execution_count": null,
   "metadata": {},
   "outputs": [],
   "source": [
    "raw_data.columns"
   ]
  },
  {
   "cell_type": "code",
   "execution_count": null,
   "metadata": {},
   "outputs": [],
   "source": [
    "raw_data.shape"
   ]
  },
  {
   "cell_type": "code",
   "execution_count": null,
   "metadata": {},
   "outputs": [],
   "source": [
    "raw_data = raw_data[raw_data['Q-value']<0.01]\n",
    "raw_data.shape"
   ]
  },
  {
   "cell_type": "code",
   "execution_count": null,
   "metadata": {},
   "outputs": [],
   "source": [
    "raw_data = raw_data[raw_data['Only identified by site'] != \"+\"]\n",
    "raw_data.shape"
   ]
  },
  {
   "cell_type": "code",
   "execution_count": null,
   "metadata": {},
   "outputs": [],
   "source": [
    "raw_data = raw_data[raw_data['Reverse'] != \"+\"]\n",
    "raw_data.shape"
   ]
  },
  {
   "cell_type": "code",
   "execution_count": null,
   "metadata": {},
   "outputs": [],
   "source": [
    "raw_data =raw_data[raw_data['Potential contaminant'] != \"+\"]\n",
    "raw_data.shape"
   ]
  },
  {
   "cell_type": "code",
   "execution_count": null,
   "metadata": {},
   "outputs": [],
   "source": []
  },
  {
   "cell_type": "code",
   "execution_count": null,
   "metadata": {},
   "outputs": [],
   "source": [
    "mq_home = \"/mnt/d/Dropbox/MassDynamics_local/experiments/ups_new/Perseus/\"\n",
    "bm1 = UPSBenchmarker(mq_home, mode = \"Perseus\")\n",
    "mq_home = \"/mnt/d/Dropbox/MassDynamics_local/experiments/ups_new/BYO_2\"\n",
    "bm2 = UPSBenchmarker(mq_home, mode = \"BYO\")"
   ]
  },
  {
   "cell_type": "code",
   "execution_count": null,
   "metadata": {},
   "outputs": [],
   "source": [
    "bm1.protein_table\n"
   ]
  },
  {
   "cell_type": "code",
   "execution_count": null,
   "metadata": {},
   "outputs": [],
   "source": [
    "one_not_two = [ i for i in bm1.protein_table.index if i not in bm2.protein_table.index]\n",
    "two_not_one =  [ i for i in bm2.protein_table.index if i not in bm1.protein_table.index]\n",
    "print(len(one_not_two))\n",
    "print(len(two_not_one))"
   ]
  },
  {
   "cell_type": "code",
   "execution_count": null,
   "metadata": {},
   "outputs": [],
   "source": [
    "bm2.protein_table"
   ]
  },
  {
   "source": [
    "# Develop Protein Table Integrity Check\n",
    "\n",
    "Tests that probably make sense:\n",
    "\n",
    "- make sure that all theoretical proteins are present. \n",
    "- scale of q-values/mean etc. \n",
    "- LogFC's are present\n",
    "- all adj.P.Val"
   ],
   "cell_type": "markdown",
   "metadata": {}
  },
  {
   "cell_type": "code",
   "execution_count": 1,
   "metadata": {},
   "outputs": [],
   "source": [
    "sys.path.append(\"..\")\n",
    "from app.benchmarkers import IPRG2015Benchmarker, UPSBenchmarker, HerStudyBenchmarker\n",
    "from app.confusion_matrix_calculator import ConfusionMatrixCalculator   \n",
    "\n",
    "#mq_home = \"/mnt/d/Dropbox/MassDynamics_local/experiments/BYO_Paper/IPRG2015/BYOResults\"\n",
    "#protein_table = IPRG2015Benchmarker(mq_home, \"BYO\").protein_table"
   ]
  },
  {
   "cell_type": "code",
   "execution_count": 2,
   "metadata": {},
   "outputs": [
    {
     "output_type": "stream",
     "name": "stdout",
     "text": [
      "Raw data shape: 2842\n",
      "adj.P.Val sample1 - sample2\n",
      "logFC sample1 - sample2\n",
      "adj.P.Val sample1 - sample3\n",
      "logFC sample1 - sample3\n",
      "adj.P.Val sample1 - sample4\n",
      "logFC sample1 - sample4\n",
      "adj.P.Val sample2 - sample3\n",
      "logFC sample2 - sample3\n",
      "adj.P.Val sample2 - sample4\n",
      "logFC sample2 - sample4\n",
      "adj.P.Val sample3 - sample4\n",
      "logFC sample3 - sample4\n",
      "total proteins in protein table: 2840\n"
     ]
    }
   ],
   "source": [
    "mq_home = \"/mnt/d/Dropbox/MassDynamics_local/experiments/BYO_Paper/IPRG2015/\"\n",
    "protein_table = IPRG2015Benchmarker(mq_home, \"Perseus\").protein_table"
   ]
  },
  {
   "cell_type": "code",
   "execution_count": 3,
   "metadata": {},
   "outputs": [
    {
     "output_type": "execute_result",
     "data": {
      "text/plain": [
       "Index(['Q-value-ident', 'adj.P.Val sample1 - sample2',\n",
       "       'logFC sample1 - sample2', 'adj.P.Val sample1 - sample3',\n",
       "       'logFC sample1 - sample3', 'adj.P.Val sample1 - sample4',\n",
       "       'logFC sample1 - sample4', 'adj.P.Val sample2 - sample3',\n",
       "       'logFC sample2 - sample3', 'adj.P.Val sample2 - sample4',\n",
       "       'logFC sample2 - sample4', 'adj.P.Val sample3 - sample4',\n",
       "       'logFC sample3 - sample4', 'ProteinId'],\n",
       "      dtype='object')"
      ]
     },
     "metadata": {},
     "execution_count": 3
    }
   ],
   "source": [
    "protein_table.columns"
   ]
  },
  {
   "cell_type": "code",
   "execution_count": 4,
   "metadata": {},
   "outputs": [],
   "source": [
    "def check_protein_table_integrity(protein_table):\n",
    "\n",
    "    # assert proteinId is present\n",
    "    assert \"ProteinId\" in protein_table.columns, \"ProteinId not in columns.\"\n",
    "    \n",
    "    # assert each logFC has a p-value to match the comparison:\n",
    "    for logFC in protein_table.columns:\n",
    "        if \"logFC\" in logFC:\n",
    "            matching_cols = 0\n",
    "            for pval in protein_table:\n",
    "                if \"adj.P.Val\" in pval:\n",
    "                    if logFC.split(\"logFC\")[1] == pval.split(\"adj.P.Val\")[1]:\n",
    "                        matching_cols = matching_cols + 1\n",
    "            assert matching_cols != 0, \"N matching cols for {} is 0\".format(logFC)\n",
    "            assert matching_cols <2, \"N matching cols for {} are {}\".format(logFC,\n",
    "                                                                matching_cols)\n",
    "\n",
    "\n",
    "    # assert adj.p.val on 0 - 1\n",
    "    for pval in protein_table:\n",
    "        if \"adj.P.Val\" in pval:\n",
    "            assert protein_table[pval].max() < 1, \"{} may not be on scale 0-1\".format(pval)\n",
    "            assert protein_table[pval].min() > 0, \"{} may not be on scale 0-1\".format(pval)\n",
    "            #assert protein_table[pval].mean() > 0.5, \"{} may not .format(pval)\n",
    "            \n",
    "    return \n",
    "\n",
    "check_protein_table_integrity(protein_table)"
   ]
  },
  {
   "cell_type": "code",
   "execution_count": 5,
   "metadata": {},
   "outputs": [
    {
     "output_type": "execute_result",
     "data": {
      "text/plain": [
       "Index(['Q-value-ident', 'adj.P.Val sample1 - sample2',\n",
       "       'logFC sample1 - sample2', 'adj.P.Val sample1 - sample3',\n",
       "       'logFC sample1 - sample3', 'adj.P.Val sample1 - sample4',\n",
       "       'logFC sample1 - sample4', 'adj.P.Val sample2 - sample3',\n",
       "       'logFC sample2 - sample3', 'adj.P.Val sample2 - sample4',\n",
       "       'logFC sample2 - sample4', 'adj.P.Val sample3 - sample4',\n",
       "       'logFC sample3 - sample4', 'ProteinId'],\n",
       "      dtype='object')"
      ]
     },
     "metadata": {},
     "execution_count": 5
    }
   ],
   "source": [
    "protein_table.columns"
   ]
  },
  {
   "cell_type": "code",
   "execution_count": null,
   "metadata": {},
   "outputs": [],
   "source": []
  }
 ]
}