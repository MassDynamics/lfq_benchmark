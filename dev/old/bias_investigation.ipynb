{
 "metadata": {
  "language_info": {
   "codemirror_mode": {
    "name": "ipython",
    "version": 3
   },
   "file_extension": ".py",
   "mimetype": "text/x-python",
   "name": "python",
   "nbconvert_exporter": "python",
   "pygments_lexer": "ipython3",
   "version": "3.7.7-final"
  },
  "orig_nbformat": 2,
  "kernelspec": {
   "name": "python3",
   "display_name": "Python 3",
   "language": "python"
  }
 },
 "nbformat": 4,
 "nbformat_minor": 2,
 "cells": [
  {
   "cell_type": "code",
   "execution_count": 22,
   "metadata": {},
   "outputs": [],
   "source": [
    "sys.path.append(\"..\")\n",
    "import pandas as pd \n",
    "import numpy as np\n",
    "from app.benchmarkers import UPSBenchmarker\n",
    "experiment_home = \"/mnt/d/Dropbox/MassDynamics_local/experiments/UPS/ups_29_1_21_updated_workflow_discovery\"\n",
    "\n",
    "# get bm\n",
    "bm = UPSBenchmarker(experiment_home)\n",
    "\n",
    "# get intensities and protein table\n",
    "intensities = pd.read_csv(os.path.join(experiment_home, \"Protein_Intensity.txt\"), sep = \"\\t\")\n",
    "protein_table = pd.read_csv(os.path.join(experiment_home, \"Protein_Table.txt\"), sep = \"\\t\")"
   ]
  },
  {
   "cell_type": "code",
   "execution_count": 91,
   "metadata": {},
   "outputs": [],
   "source": [
    "\n",
    "# match ids and extract identifiers\n",
    "intensities = intensities.merge(protein_table[['ProteinGroupId', 'ProteinId']], how = \"left\")\n",
    "intensities['ProteinId'] = intensities.ProteinId.str.extract(r\"([OPQ][0-9][A-Z0-9]{3}[0-9]|[A-NR-Z][0-9]([A-Z][A-Z0-9]{2}[0-9]){1,2})\")[0]\n",
    "\n",
    "#filter for non imputed and spiked proteins\n",
    "spiked_proteins = bm.get_theoretical_logFCs().index.to_list()\n",
    "filtered = intensities#[intensities.Imputed == 0]\n",
    "filtered = filtered[filtered.ProteinId.apply(lambda x: x in spiked_proteins)]\n",
    "\n",
    "# Get estimates in each condition\n",
    "ups1 = filtered[filtered.condition == \"UPS1\"]\n",
    "ups1 = ups1.groupby(\"ProteinId\")[\"log2NInt_ProteinGroupId\"].mean()\n",
    "ups2 = filtered[filtered.condition == \"UPS2\"]\n",
    "ups2 = ups2.groupby(\"ProteinId\")[\"log2NInt_ProteinGroupId\"].mean()\n",
    "\n",
    "# get differences\n",
    "dif = pd.DataFrame((ups1,ups2)).T\n",
    "dif[\"estimated_fold_change\"] = dif.iloc[:,0] - dif.iloc[:,1]\n",
    "\n",
    "\n",
    "#get theoretical log2int\n",
    "theoretical = bm.get_theoretical_logFCs()\n",
    "dif = dif.merge(theoretical, left_index=True, right_index=True)\n",
    "dif.columns = [\"UPS1 Log2Int\", \"UPS2 Log2Int\", \"Dif Log2Int Estimated\", \"Dif Log2Int Theoretical\"]"
   ]
  },
  {
   "cell_type": "code",
   "execution_count": 92,
   "metadata": {},
   "outputs": [
    {
     "output_type": "stream",
     "name": "stdout",
     "text": [
      "Intercept of a Linear Regression:  1.2416060294588704\nSlope of a Linear Regression:  [0.50029793]\nR2 of a Linear Regression:  0.8203602125541514\n"
     ]
    },
    {
     "output_type": "display_data",
     "data": {
      "application/vnd.plotly.v1+json": {
       "config": {
        "plotlyServerURL": "https://plot.ly"
       },
       "data": [
        {
         "line": {
          "color": "gray",
          "dash": "dashdot"
         },
         "mode": "lines",
         "showlegend": false,
         "type": "scatter",
         "x": [
          -15,
          15
         ],
         "y": [
          -15,
          15
         ]
        },
        {
         "hovertext": [
          "O00762",
          "O76070",
          "P00167",
          "P00441",
          "P00709",
          "P00915",
          "P00918",
          "P01008",
          "P01031",
          "P01112",
          "P01127",
          "P01133",
          "P01344",
          "P01375",
          "P01579",
          "P02144",
          "P02741",
          "P02753",
          "P02768",
          "P02787",
          "P02788",
          "P04040",
          "P05413",
          "P06396",
          "P06732",
          "P08263",
          "P08758",
          "P09211",
          "P10145",
          "P10599",
          "P10636",
          "P12081",
          "P15559",
          "P16083",
          "P41159",
          "P51965",
          "P55957",
          "P61626",
          "P61769",
          "P62937",
          "P62988",
          "P63165",
          "P63279",
          "P68871",
          "P69905",
          "P99999",
          "Q06830",
          "Q15843"
         ],
         "mode": "markers",
         "type": "scatter",
         "x": [
          9.965784284662087,
          6.643856189774724,
          0,
          13.287712379549449,
          3.321928094887362,
          -3.321928094887362,
          -3.321928094887362,
          6.643856189774724,
          -3.321928094887362,
          9.965784284662087,
          6.643856189774724,
          0,
          6.643856189774724,
          13.287712379549449,
          9.965784284662087,
          0,
          13.287712379549449,
          3.321928094887362,
          -3.321928094887362,
          9.965784284662087,
          13.287712379549449,
          0,
          13.287712379549449,
          9.965784284662087,
          3.321928094887362,
          6.643856189774724,
          13.287712379549449,
          9.965784284662087,
          13.287712379549449,
          6.643856189774724,
          13.287712379549449,
          3.321928094887362,
          0,
          3.321928094887362,
          -3.321928094887362,
          9.965784284662087,
          6.643856189774724,
          3.321928094887362,
          6.643856189774724,
          0,
          -3.321928094887362,
          0,
          3.321928094887362,
          -3.321928094887362,
          -3.321928094887362,
          9.965784284662087,
          0,
          3.321928094887362
         ],
         "y": [
          6.5896009872422034,
          6.626892166767849,
          0.7552044752055025,
          6.452078729592905,
          3.820697467827948,
          -0.918043196727524,
          -0.9084668060735979,
          8.033104315268748,
          -1.3759784582521277,
          6.9369839150988,
          6.358500350671452,
          0.6963974722011486,
          5.0031994267217215,
          7.974618211018992,
          6.458489682302382,
          1.23145187660392,
          4.495591035349776,
          3.308995301665348,
          -1.0178058912091998,
          5.376413084532526,
          6.612681684577453,
          0.5358897951844739,
          8.104113032761294,
          7.45003748823018,
          3.532687511087275,
          7.168282746065696,
          7.665786566284851,
          5.273032509555826,
          5.39635727937263,
          5.560811454570427,
          7.718243218778898,
          3.030805600290549,
          0.7827862954356775,
          3.07038669099018,
          -1.2528493368338012,
          2.7847653324327233,
          6.4910531052041485,
          3.679794648657726,
          7.2970334969382264,
          0.8076650084909218,
          -1.3387741881798014,
          0.7484168689033766,
          3.4734322533464983,
          -0.722838646644675,
          -0.990800094618848,
          6.868959018042524,
          0.4647475017888212,
          3.1473282665450313
         ]
        }
       ],
       "layout": {
        "template": {
         "data": {
          "bar": [
           {
            "error_x": {
             "color": "#2a3f5f"
            },
            "error_y": {
             "color": "#2a3f5f"
            },
            "marker": {
             "line": {
              "color": "#E5ECF6",
              "width": 0.5
             }
            },
            "type": "bar"
           }
          ],
          "barpolar": [
           {
            "marker": {
             "line": {
              "color": "#E5ECF6",
              "width": 0.5
             }
            },
            "type": "barpolar"
           }
          ],
          "carpet": [
           {
            "aaxis": {
             "endlinecolor": "#2a3f5f",
             "gridcolor": "white",
             "linecolor": "white",
             "minorgridcolor": "white",
             "startlinecolor": "#2a3f5f"
            },
            "baxis": {
             "endlinecolor": "#2a3f5f",
             "gridcolor": "white",
             "linecolor": "white",
             "minorgridcolor": "white",
             "startlinecolor": "#2a3f5f"
            },
            "type": "carpet"
           }
          ],
          "choropleth": [
           {
            "colorbar": {
             "outlinewidth": 0,
             "ticks": ""
            },
            "type": "choropleth"
           }
          ],
          "contour": [
           {
            "colorbar": {
             "outlinewidth": 0,
             "ticks": ""
            },
            "colorscale": [
             [
              0,
              "#0d0887"
             ],
             [
              0.1111111111111111,
              "#46039f"
             ],
             [
              0.2222222222222222,
              "#7201a8"
             ],
             [
              0.3333333333333333,
              "#9c179e"
             ],
             [
              0.4444444444444444,
              "#bd3786"
             ],
             [
              0.5555555555555556,
              "#d8576b"
             ],
             [
              0.6666666666666666,
              "#ed7953"
             ],
             [
              0.7777777777777778,
              "#fb9f3a"
             ],
             [
              0.8888888888888888,
              "#fdca26"
             ],
             [
              1,
              "#f0f921"
             ]
            ],
            "type": "contour"
           }
          ],
          "contourcarpet": [
           {
            "colorbar": {
             "outlinewidth": 0,
             "ticks": ""
            },
            "type": "contourcarpet"
           }
          ],
          "heatmap": [
           {
            "colorbar": {
             "outlinewidth": 0,
             "ticks": ""
            },
            "colorscale": [
             [
              0,
              "#0d0887"
             ],
             [
              0.1111111111111111,
              "#46039f"
             ],
             [
              0.2222222222222222,
              "#7201a8"
             ],
             [
              0.3333333333333333,
              "#9c179e"
             ],
             [
              0.4444444444444444,
              "#bd3786"
             ],
             [
              0.5555555555555556,
              "#d8576b"
             ],
             [
              0.6666666666666666,
              "#ed7953"
             ],
             [
              0.7777777777777778,
              "#fb9f3a"
             ],
             [
              0.8888888888888888,
              "#fdca26"
             ],
             [
              1,
              "#f0f921"
             ]
            ],
            "type": "heatmap"
           }
          ],
          "heatmapgl": [
           {
            "colorbar": {
             "outlinewidth": 0,
             "ticks": ""
            },
            "colorscale": [
             [
              0,
              "#0d0887"
             ],
             [
              0.1111111111111111,
              "#46039f"
             ],
             [
              0.2222222222222222,
              "#7201a8"
             ],
             [
              0.3333333333333333,
              "#9c179e"
             ],
             [
              0.4444444444444444,
              "#bd3786"
             ],
             [
              0.5555555555555556,
              "#d8576b"
             ],
             [
              0.6666666666666666,
              "#ed7953"
             ],
             [
              0.7777777777777778,
              "#fb9f3a"
             ],
             [
              0.8888888888888888,
              "#fdca26"
             ],
             [
              1,
              "#f0f921"
             ]
            ],
            "type": "heatmapgl"
           }
          ],
          "histogram": [
           {
            "marker": {
             "colorbar": {
              "outlinewidth": 0,
              "ticks": ""
             }
            },
            "type": "histogram"
           }
          ],
          "histogram2d": [
           {
            "colorbar": {
             "outlinewidth": 0,
             "ticks": ""
            },
            "colorscale": [
             [
              0,
              "#0d0887"
             ],
             [
              0.1111111111111111,
              "#46039f"
             ],
             [
              0.2222222222222222,
              "#7201a8"
             ],
             [
              0.3333333333333333,
              "#9c179e"
             ],
             [
              0.4444444444444444,
              "#bd3786"
             ],
             [
              0.5555555555555556,
              "#d8576b"
             ],
             [
              0.6666666666666666,
              "#ed7953"
             ],
             [
              0.7777777777777778,
              "#fb9f3a"
             ],
             [
              0.8888888888888888,
              "#fdca26"
             ],
             [
              1,
              "#f0f921"
             ]
            ],
            "type": "histogram2d"
           }
          ],
          "histogram2dcontour": [
           {
            "colorbar": {
             "outlinewidth": 0,
             "ticks": ""
            },
            "colorscale": [
             [
              0,
              "#0d0887"
             ],
             [
              0.1111111111111111,
              "#46039f"
             ],
             [
              0.2222222222222222,
              "#7201a8"
             ],
             [
              0.3333333333333333,
              "#9c179e"
             ],
             [
              0.4444444444444444,
              "#bd3786"
             ],
             [
              0.5555555555555556,
              "#d8576b"
             ],
             [
              0.6666666666666666,
              "#ed7953"
             ],
             [
              0.7777777777777778,
              "#fb9f3a"
             ],
             [
              0.8888888888888888,
              "#fdca26"
             ],
             [
              1,
              "#f0f921"
             ]
            ],
            "type": "histogram2dcontour"
           }
          ],
          "mesh3d": [
           {
            "colorbar": {
             "outlinewidth": 0,
             "ticks": ""
            },
            "type": "mesh3d"
           }
          ],
          "parcoords": [
           {
            "line": {
             "colorbar": {
              "outlinewidth": 0,
              "ticks": ""
             }
            },
            "type": "parcoords"
           }
          ],
          "pie": [
           {
            "automargin": true,
            "type": "pie"
           }
          ],
          "scatter": [
           {
            "marker": {
             "colorbar": {
              "outlinewidth": 0,
              "ticks": ""
             }
            },
            "type": "scatter"
           }
          ],
          "scatter3d": [
           {
            "line": {
             "colorbar": {
              "outlinewidth": 0,
              "ticks": ""
             }
            },
            "marker": {
             "colorbar": {
              "outlinewidth": 0,
              "ticks": ""
             }
            },
            "type": "scatter3d"
           }
          ],
          "scattercarpet": [
           {
            "marker": {
             "colorbar": {
              "outlinewidth": 0,
              "ticks": ""
             }
            },
            "type": "scattercarpet"
           }
          ],
          "scattergeo": [
           {
            "marker": {
             "colorbar": {
              "outlinewidth": 0,
              "ticks": ""
             }
            },
            "type": "scattergeo"
           }
          ],
          "scattergl": [
           {
            "marker": {
             "colorbar": {
              "outlinewidth": 0,
              "ticks": ""
             }
            },
            "type": "scattergl"
           }
          ],
          "scattermapbox": [
           {
            "marker": {
             "colorbar": {
              "outlinewidth": 0,
              "ticks": ""
             }
            },
            "type": "scattermapbox"
           }
          ],
          "scatterpolar": [
           {
            "marker": {
             "colorbar": {
              "outlinewidth": 0,
              "ticks": ""
             }
            },
            "type": "scatterpolar"
           }
          ],
          "scatterpolargl": [
           {
            "marker": {
             "colorbar": {
              "outlinewidth": 0,
              "ticks": ""
             }
            },
            "type": "scatterpolargl"
           }
          ],
          "scatterternary": [
           {
            "marker": {
             "colorbar": {
              "outlinewidth": 0,
              "ticks": ""
             }
            },
            "type": "scatterternary"
           }
          ],
          "surface": [
           {
            "colorbar": {
             "outlinewidth": 0,
             "ticks": ""
            },
            "colorscale": [
             [
              0,
              "#0d0887"
             ],
             [
              0.1111111111111111,
              "#46039f"
             ],
             [
              0.2222222222222222,
              "#7201a8"
             ],
             [
              0.3333333333333333,
              "#9c179e"
             ],
             [
              0.4444444444444444,
              "#bd3786"
             ],
             [
              0.5555555555555556,
              "#d8576b"
             ],
             [
              0.6666666666666666,
              "#ed7953"
             ],
             [
              0.7777777777777778,
              "#fb9f3a"
             ],
             [
              0.8888888888888888,
              "#fdca26"
             ],
             [
              1,
              "#f0f921"
             ]
            ],
            "type": "surface"
           }
          ],
          "table": [
           {
            "cells": {
             "fill": {
              "color": "#EBF0F8"
             },
             "line": {
              "color": "white"
             }
            },
            "header": {
             "fill": {
              "color": "#C8D4E3"
             },
             "line": {
              "color": "white"
             }
            },
            "type": "table"
           }
          ]
         },
         "layout": {
          "annotationdefaults": {
           "arrowcolor": "#2a3f5f",
           "arrowhead": 0,
           "arrowwidth": 1
          },
          "coloraxis": {
           "colorbar": {
            "outlinewidth": 0,
            "ticks": ""
           }
          },
          "colorscale": {
           "diverging": [
            [
             0,
             "#8e0152"
            ],
            [
             0.1,
             "#c51b7d"
            ],
            [
             0.2,
             "#de77ae"
            ],
            [
             0.3,
             "#f1b6da"
            ],
            [
             0.4,
             "#fde0ef"
            ],
            [
             0.5,
             "#f7f7f7"
            ],
            [
             0.6,
             "#e6f5d0"
            ],
            [
             0.7,
             "#b8e186"
            ],
            [
             0.8,
             "#7fbc41"
            ],
            [
             0.9,
             "#4d9221"
            ],
            [
             1,
             "#276419"
            ]
           ],
           "sequential": [
            [
             0,
             "#0d0887"
            ],
            [
             0.1111111111111111,
             "#46039f"
            ],
            [
             0.2222222222222222,
             "#7201a8"
            ],
            [
             0.3333333333333333,
             "#9c179e"
            ],
            [
             0.4444444444444444,
             "#bd3786"
            ],
            [
             0.5555555555555556,
             "#d8576b"
            ],
            [
             0.6666666666666666,
             "#ed7953"
            ],
            [
             0.7777777777777778,
             "#fb9f3a"
            ],
            [
             0.8888888888888888,
             "#fdca26"
            ],
            [
             1,
             "#f0f921"
            ]
           ],
           "sequentialminus": [
            [
             0,
             "#0d0887"
            ],
            [
             0.1111111111111111,
             "#46039f"
            ],
            [
             0.2222222222222222,
             "#7201a8"
            ],
            [
             0.3333333333333333,
             "#9c179e"
            ],
            [
             0.4444444444444444,
             "#bd3786"
            ],
            [
             0.5555555555555556,
             "#d8576b"
            ],
            [
             0.6666666666666666,
             "#ed7953"
            ],
            [
             0.7777777777777778,
             "#fb9f3a"
            ],
            [
             0.8888888888888888,
             "#fdca26"
            ],
            [
             1,
             "#f0f921"
            ]
           ]
          },
          "colorway": [
           "#636efa",
           "#EF553B",
           "#00cc96",
           "#ab63fa",
           "#FFA15A",
           "#19d3f3",
           "#FF6692",
           "#B6E880",
           "#FF97FF",
           "#FECB52"
          ],
          "font": {
           "color": "#2a3f5f"
          },
          "geo": {
           "bgcolor": "white",
           "lakecolor": "white",
           "landcolor": "#E5ECF6",
           "showlakes": true,
           "showland": true,
           "subunitcolor": "white"
          },
          "hoverlabel": {
           "align": "left"
          },
          "hovermode": "closest",
          "mapbox": {
           "style": "light"
          },
          "paper_bgcolor": "white",
          "plot_bgcolor": "#E5ECF6",
          "polar": {
           "angularaxis": {
            "gridcolor": "white",
            "linecolor": "white",
            "ticks": ""
           },
           "bgcolor": "#E5ECF6",
           "radialaxis": {
            "gridcolor": "white",
            "linecolor": "white",
            "ticks": ""
           }
          },
          "scene": {
           "xaxis": {
            "backgroundcolor": "#E5ECF6",
            "gridcolor": "white",
            "gridwidth": 2,
            "linecolor": "white",
            "showbackground": true,
            "ticks": "",
            "zerolinecolor": "white"
           },
           "yaxis": {
            "backgroundcolor": "#E5ECF6",
            "gridcolor": "white",
            "gridwidth": 2,
            "linecolor": "white",
            "showbackground": true,
            "ticks": "",
            "zerolinecolor": "white"
           },
           "zaxis": {
            "backgroundcolor": "#E5ECF6",
            "gridcolor": "white",
            "gridwidth": 2,
            "linecolor": "white",
            "showbackground": true,
            "ticks": "",
            "zerolinecolor": "white"
           }
          },
          "shapedefaults": {
           "line": {
            "color": "#2a3f5f"
           }
          },
          "ternary": {
           "aaxis": {
            "gridcolor": "white",
            "linecolor": "white",
            "ticks": ""
           },
           "baxis": {
            "gridcolor": "white",
            "linecolor": "white",
            "ticks": ""
           },
           "bgcolor": "#E5ECF6",
           "caxis": {
            "gridcolor": "white",
            "linecolor": "white",
            "ticks": ""
           }
          },
          "title": {
           "x": 0.05
          },
          "xaxis": {
           "automargin": true,
           "gridcolor": "white",
           "linecolor": "white",
           "ticks": "",
           "title": {
            "standoff": 15
           },
           "zerolinecolor": "white",
           "zerolinewidth": 2
          },
          "yaxis": {
           "automargin": true,
           "gridcolor": "white",
           "linecolor": "white",
           "ticks": "",
           "title": {
            "standoff": 15
           },
           "zerolinecolor": "white",
           "zerolinewidth": 2
          }
         }
        },
        "title": {
         "text": "PearsonR = 0.906"
        },
        "xaxis": {
         "title": {
          "text": "True LogFC"
         }
        },
        "yaxis": {
         "title": {
          "text": "Estimated LogFC"
         }
        }
       }
      },
      "text/html": "<div>                            <div id=\"19404329-71b5-4c59-bdf0-0fec002359b8\" class=\"plotly-graph-div\" style=\"height:525px; width:100%;\"></div>            <script type=\"text/javascript\">                require([\"plotly\"], function(Plotly) {                    window.PLOTLYENV=window.PLOTLYENV || {};                                    if (document.getElementById(\"19404329-71b5-4c59-bdf0-0fec002359b8\")) {                    Plotly.newPlot(                        \"19404329-71b5-4c59-bdf0-0fec002359b8\",                        [{\"line\": {\"color\": \"gray\", \"dash\": \"dashdot\"}, \"mode\": \"lines\", \"showlegend\": false, \"type\": \"scatter\", \"x\": [-15, 15], \"y\": [-15, 15]}, {\"hovertext\": [\"O00762\", \"O76070\", \"P00167\", \"P00441\", \"P00709\", \"P00915\", \"P00918\", \"P01008\", \"P01031\", \"P01112\", \"P01127\", \"P01133\", \"P01344\", \"P01375\", \"P01579\", \"P02144\", \"P02741\", \"P02753\", \"P02768\", \"P02787\", \"P02788\", \"P04040\", \"P05413\", \"P06396\", \"P06732\", \"P08263\", \"P08758\", \"P09211\", \"P10145\", \"P10599\", \"P10636\", \"P12081\", \"P15559\", \"P16083\", \"P41159\", \"P51965\", \"P55957\", \"P61626\", \"P61769\", \"P62937\", \"P62988\", \"P63165\", \"P63279\", \"P68871\", \"P69905\", \"P99999\", \"Q06830\", \"Q15843\"], \"mode\": \"markers\", \"type\": \"scatter\", \"x\": [9.965784284662087, 6.643856189774724, 0.0, 13.287712379549449, 3.321928094887362, -3.321928094887362, -3.321928094887362, 6.643856189774724, -3.321928094887362, 9.965784284662087, 6.643856189774724, 0.0, 6.643856189774724, 13.287712379549449, 9.965784284662087, 0.0, 13.287712379549449, 3.321928094887362, -3.321928094887362, 9.965784284662087, 13.287712379549449, 0.0, 13.287712379549449, 9.965784284662087, 3.321928094887362, 6.643856189774724, 13.287712379549449, 9.965784284662087, 13.287712379549449, 6.643856189774724, 13.287712379549449, 3.321928094887362, 0.0, 3.321928094887362, -3.321928094887362, 9.965784284662087, 6.643856189774724, 3.321928094887362, 6.643856189774724, 0.0, -3.321928094887362, 0.0, 3.321928094887362, -3.321928094887362, -3.321928094887362, 9.965784284662087, 0.0, 3.321928094887362], \"y\": [6.5896009872422034, 6.626892166767849, 0.7552044752055025, 6.452078729592905, 3.820697467827948, -0.918043196727524, -0.9084668060735979, 8.033104315268748, -1.3759784582521277, 6.9369839150988, 6.358500350671452, 0.6963974722011486, 5.0031994267217215, 7.974618211018992, 6.458489682302382, 1.23145187660392, 4.495591035349776, 3.308995301665348, -1.0178058912091998, 5.376413084532526, 6.612681684577453, 0.5358897951844739, 8.104113032761294, 7.45003748823018, 3.532687511087275, 7.168282746065696, 7.665786566284851, 5.273032509555826, 5.39635727937263, 5.560811454570427, 7.718243218778898, 3.030805600290549, 0.7827862954356775, 3.07038669099018, -1.2528493368338012, 2.7847653324327233, 6.4910531052041485, 3.679794648657726, 7.2970334969382264, 0.8076650084909218, -1.3387741881798014, 0.7484168689033766, 3.4734322533464983, -0.722838646644675, -0.990800094618848, 6.868959018042524, 0.4647475017888212, 3.1473282665450313]}],                        {\"template\": {\"data\": {\"bar\": [{\"error_x\": {\"color\": \"#2a3f5f\"}, \"error_y\": {\"color\": \"#2a3f5f\"}, \"marker\": {\"line\": {\"color\": \"#E5ECF6\", \"width\": 0.5}}, \"type\": \"bar\"}], \"barpolar\": [{\"marker\": {\"line\": {\"color\": \"#E5ECF6\", \"width\": 0.5}}, \"type\": \"barpolar\"}], \"carpet\": [{\"aaxis\": {\"endlinecolor\": \"#2a3f5f\", \"gridcolor\": \"white\", \"linecolor\": \"white\", \"minorgridcolor\": \"white\", \"startlinecolor\": \"#2a3f5f\"}, \"baxis\": {\"endlinecolor\": \"#2a3f5f\", \"gridcolor\": \"white\", \"linecolor\": \"white\", \"minorgridcolor\": \"white\", \"startlinecolor\": \"#2a3f5f\"}, \"type\": \"carpet\"}], \"choropleth\": [{\"colorbar\": {\"outlinewidth\": 0, \"ticks\": \"\"}, \"type\": \"choropleth\"}], \"contour\": [{\"colorbar\": {\"outlinewidth\": 0, \"ticks\": \"\"}, \"colorscale\": [[0.0, \"#0d0887\"], [0.1111111111111111, \"#46039f\"], [0.2222222222222222, \"#7201a8\"], [0.3333333333333333, \"#9c179e\"], [0.4444444444444444, \"#bd3786\"], [0.5555555555555556, \"#d8576b\"], [0.6666666666666666, \"#ed7953\"], [0.7777777777777778, \"#fb9f3a\"], [0.8888888888888888, \"#fdca26\"], [1.0, \"#f0f921\"]], \"type\": \"contour\"}], \"contourcarpet\": [{\"colorbar\": {\"outlinewidth\": 0, \"ticks\": \"\"}, \"type\": \"contourcarpet\"}], \"heatmap\": [{\"colorbar\": {\"outlinewidth\": 0, \"ticks\": \"\"}, \"colorscale\": [[0.0, \"#0d0887\"], [0.1111111111111111, \"#46039f\"], [0.2222222222222222, \"#7201a8\"], [0.3333333333333333, \"#9c179e\"], [0.4444444444444444, \"#bd3786\"], [0.5555555555555556, \"#d8576b\"], [0.6666666666666666, \"#ed7953\"], [0.7777777777777778, \"#fb9f3a\"], [0.8888888888888888, \"#fdca26\"], [1.0, \"#f0f921\"]], \"type\": \"heatmap\"}], \"heatmapgl\": [{\"colorbar\": {\"outlinewidth\": 0, \"ticks\": \"\"}, \"colorscale\": [[0.0, \"#0d0887\"], [0.1111111111111111, \"#46039f\"], [0.2222222222222222, \"#7201a8\"], [0.3333333333333333, \"#9c179e\"], [0.4444444444444444, \"#bd3786\"], [0.5555555555555556, \"#d8576b\"], [0.6666666666666666, \"#ed7953\"], [0.7777777777777778, \"#fb9f3a\"], [0.8888888888888888, \"#fdca26\"], [1.0, \"#f0f921\"]], \"type\": \"heatmapgl\"}], \"histogram\": [{\"marker\": {\"colorbar\": {\"outlinewidth\": 0, \"ticks\": \"\"}}, \"type\": \"histogram\"}], \"histogram2d\": [{\"colorbar\": {\"outlinewidth\": 0, \"ticks\": \"\"}, \"colorscale\": [[0.0, \"#0d0887\"], [0.1111111111111111, \"#46039f\"], [0.2222222222222222, \"#7201a8\"], [0.3333333333333333, \"#9c179e\"], [0.4444444444444444, \"#bd3786\"], [0.5555555555555556, \"#d8576b\"], [0.6666666666666666, \"#ed7953\"], [0.7777777777777778, \"#fb9f3a\"], [0.8888888888888888, \"#fdca26\"], [1.0, \"#f0f921\"]], \"type\": \"histogram2d\"}], \"histogram2dcontour\": [{\"colorbar\": {\"outlinewidth\": 0, \"ticks\": \"\"}, \"colorscale\": [[0.0, \"#0d0887\"], [0.1111111111111111, \"#46039f\"], [0.2222222222222222, \"#7201a8\"], [0.3333333333333333, \"#9c179e\"], [0.4444444444444444, \"#bd3786\"], [0.5555555555555556, \"#d8576b\"], [0.6666666666666666, \"#ed7953\"], [0.7777777777777778, \"#fb9f3a\"], [0.8888888888888888, \"#fdca26\"], [1.0, \"#f0f921\"]], \"type\": \"histogram2dcontour\"}], \"mesh3d\": [{\"colorbar\": {\"outlinewidth\": 0, \"ticks\": \"\"}, \"type\": \"mesh3d\"}], \"parcoords\": [{\"line\": {\"colorbar\": {\"outlinewidth\": 0, \"ticks\": \"\"}}, \"type\": \"parcoords\"}], \"pie\": [{\"automargin\": true, \"type\": \"pie\"}], \"scatter\": [{\"marker\": {\"colorbar\": {\"outlinewidth\": 0, \"ticks\": \"\"}}, \"type\": \"scatter\"}], \"scatter3d\": [{\"line\": {\"colorbar\": {\"outlinewidth\": 0, \"ticks\": \"\"}}, \"marker\": {\"colorbar\": {\"outlinewidth\": 0, \"ticks\": \"\"}}, \"type\": \"scatter3d\"}], \"scattercarpet\": [{\"marker\": {\"colorbar\": {\"outlinewidth\": 0, \"ticks\": \"\"}}, \"type\": \"scattercarpet\"}], \"scattergeo\": [{\"marker\": {\"colorbar\": {\"outlinewidth\": 0, \"ticks\": \"\"}}, \"type\": \"scattergeo\"}], \"scattergl\": [{\"marker\": {\"colorbar\": {\"outlinewidth\": 0, \"ticks\": \"\"}}, \"type\": \"scattergl\"}], \"scattermapbox\": [{\"marker\": {\"colorbar\": {\"outlinewidth\": 0, \"ticks\": \"\"}}, \"type\": \"scattermapbox\"}], \"scatterpolar\": [{\"marker\": {\"colorbar\": {\"outlinewidth\": 0, \"ticks\": \"\"}}, \"type\": \"scatterpolar\"}], \"scatterpolargl\": [{\"marker\": {\"colorbar\": {\"outlinewidth\": 0, \"ticks\": \"\"}}, \"type\": \"scatterpolargl\"}], \"scatterternary\": [{\"marker\": {\"colorbar\": {\"outlinewidth\": 0, \"ticks\": \"\"}}, \"type\": \"scatterternary\"}], \"surface\": [{\"colorbar\": {\"outlinewidth\": 0, \"ticks\": \"\"}, \"colorscale\": [[0.0, \"#0d0887\"], [0.1111111111111111, \"#46039f\"], [0.2222222222222222, \"#7201a8\"], [0.3333333333333333, \"#9c179e\"], [0.4444444444444444, \"#bd3786\"], [0.5555555555555556, \"#d8576b\"], [0.6666666666666666, \"#ed7953\"], [0.7777777777777778, \"#fb9f3a\"], [0.8888888888888888, \"#fdca26\"], [1.0, \"#f0f921\"]], \"type\": \"surface\"}], \"table\": [{\"cells\": {\"fill\": {\"color\": \"#EBF0F8\"}, \"line\": {\"color\": \"white\"}}, \"header\": {\"fill\": {\"color\": \"#C8D4E3\"}, \"line\": {\"color\": \"white\"}}, \"type\": \"table\"}]}, \"layout\": {\"annotationdefaults\": {\"arrowcolor\": \"#2a3f5f\", \"arrowhead\": 0, \"arrowwidth\": 1}, \"coloraxis\": {\"colorbar\": {\"outlinewidth\": 0, \"ticks\": \"\"}}, \"colorscale\": {\"diverging\": [[0, \"#8e0152\"], [0.1, \"#c51b7d\"], [0.2, \"#de77ae\"], [0.3, \"#f1b6da\"], [0.4, \"#fde0ef\"], [0.5, \"#f7f7f7\"], [0.6, \"#e6f5d0\"], [0.7, \"#b8e186\"], [0.8, \"#7fbc41\"], [0.9, \"#4d9221\"], [1, \"#276419\"]], \"sequential\": [[0.0, \"#0d0887\"], [0.1111111111111111, \"#46039f\"], [0.2222222222222222, \"#7201a8\"], [0.3333333333333333, \"#9c179e\"], [0.4444444444444444, \"#bd3786\"], [0.5555555555555556, \"#d8576b\"], [0.6666666666666666, \"#ed7953\"], [0.7777777777777778, \"#fb9f3a\"], [0.8888888888888888, \"#fdca26\"], [1.0, \"#f0f921\"]], \"sequentialminus\": [[0.0, \"#0d0887\"], [0.1111111111111111, \"#46039f\"], [0.2222222222222222, \"#7201a8\"], [0.3333333333333333, \"#9c179e\"], [0.4444444444444444, \"#bd3786\"], [0.5555555555555556, \"#d8576b\"], [0.6666666666666666, \"#ed7953\"], [0.7777777777777778, \"#fb9f3a\"], [0.8888888888888888, \"#fdca26\"], [1.0, \"#f0f921\"]]}, \"colorway\": [\"#636efa\", \"#EF553B\", \"#00cc96\", \"#ab63fa\", \"#FFA15A\", \"#19d3f3\", \"#FF6692\", \"#B6E880\", \"#FF97FF\", \"#FECB52\"], \"font\": {\"color\": \"#2a3f5f\"}, \"geo\": {\"bgcolor\": \"white\", \"lakecolor\": \"white\", \"landcolor\": \"#E5ECF6\", \"showlakes\": true, \"showland\": true, \"subunitcolor\": \"white\"}, \"hoverlabel\": {\"align\": \"left\"}, \"hovermode\": \"closest\", \"mapbox\": {\"style\": \"light\"}, \"paper_bgcolor\": \"white\", \"plot_bgcolor\": \"#E5ECF6\", \"polar\": {\"angularaxis\": {\"gridcolor\": \"white\", \"linecolor\": \"white\", \"ticks\": \"\"}, \"bgcolor\": \"#E5ECF6\", \"radialaxis\": {\"gridcolor\": \"white\", \"linecolor\": \"white\", \"ticks\": \"\"}}, \"scene\": {\"xaxis\": {\"backgroundcolor\": \"#E5ECF6\", \"gridcolor\": \"white\", \"gridwidth\": 2, \"linecolor\": \"white\", \"showbackground\": true, \"ticks\": \"\", \"zerolinecolor\": \"white\"}, \"yaxis\": {\"backgroundcolor\": \"#E5ECF6\", \"gridcolor\": \"white\", \"gridwidth\": 2, \"linecolor\": \"white\", \"showbackground\": true, \"ticks\": \"\", \"zerolinecolor\": \"white\"}, \"zaxis\": {\"backgroundcolor\": \"#E5ECF6\", \"gridcolor\": \"white\", \"gridwidth\": 2, \"linecolor\": \"white\", \"showbackground\": true, \"ticks\": \"\", \"zerolinecolor\": \"white\"}}, \"shapedefaults\": {\"line\": {\"color\": \"#2a3f5f\"}}, \"ternary\": {\"aaxis\": {\"gridcolor\": \"white\", \"linecolor\": \"white\", \"ticks\": \"\"}, \"baxis\": {\"gridcolor\": \"white\", \"linecolor\": \"white\", \"ticks\": \"\"}, \"bgcolor\": \"#E5ECF6\", \"caxis\": {\"gridcolor\": \"white\", \"linecolor\": \"white\", \"ticks\": \"\"}}, \"title\": {\"x\": 0.05}, \"xaxis\": {\"automargin\": true, \"gridcolor\": \"white\", \"linecolor\": \"white\", \"ticks\": \"\", \"title\": {\"standoff\": 15}, \"zerolinecolor\": \"white\", \"zerolinewidth\": 2}, \"yaxis\": {\"automargin\": true, \"gridcolor\": \"white\", \"linecolor\": \"white\", \"ticks\": \"\", \"title\": {\"standoff\": 15}, \"zerolinecolor\": \"white\", \"zerolinewidth\": 2}}}, \"title\": {\"text\": \"PearsonR = 0.906\"}, \"xaxis\": {\"title\": {\"text\": \"True LogFC\"}}, \"yaxis\": {\"title\": {\"text\": \"Estimated LogFC\"}}},                        {\"responsive\": true}                    ).then(function(){\n                            \nvar gd = document.getElementById('19404329-71b5-4c59-bdf0-0fec002359b8');\nvar x = new MutationObserver(function (mutations, observer) {{\n        var display = window.getComputedStyle(gd).display;\n        if (!display || display === 'none') {{\n            console.log([gd, 'removed!']);\n            Plotly.purge(gd);\n            observer.disconnect();\n        }}\n}});\n\n// Listen for the removal of the full notebook cells\nvar notebookContainer = gd.closest('#notebook-container');\nif (notebookContainer) {{\n    x.observe(notebookContainer, {childList: true});\n}}\n\n// Listen for the clearing of the current output cell\nvar outputEl = gd.closest('.output');\nif (outputEl) {{\n    x.observe(outputEl, {childList: true});\n}}\n\n                        })                };                });            </script>        </div>"
     },
     "metadata": {}
    }
   ],
   "source": [
    "from sklearn.linear_model import LinearRegression\n",
    "from scipy.stats import pearsonr\n",
    "import plotly.graph_objects as go\n",
    "\n",
    "tmp = dif[~dif.isna().any(axis = 1)]\n",
    "ests = tmp[\"Dif Log2Int Estimated\"]\n",
    "preds = tmp[\"Dif Log2Int Theoretical\"]\n",
    "\n",
    "fig = go.Figure()\n",
    "fig.add_trace(go.Scatter(x=[-15, 15], y=[-15, 15], mode=\"lines\",\n",
    "                            line=go.scatter.Line(\n",
    "                                color=\"gray\", dash=\"dashdot\"),\n",
    "                            showlegend=False))\n",
    "\n",
    "fig.add_trace(go.Scatter(x=preds, y=ests, \n",
    "                        mode='markers',\n",
    "                        hovertext=dif.index))\n",
    "\n",
    "reg = LinearRegression().fit(np.array(preds).reshape(-1, 1),np.array(ests))\n",
    "print(\"Intercept of a Linear Regression: \", reg.intercept_)\n",
    "print(\"Slope of a Linear Regression: \", reg.coef_)\n",
    "print(\"R2 of a Linear Regression: \", reg.score(np.array(preds).reshape(-1, 1),np.array(ests)))\n",
    "score = pearsonr(ests,preds)[0]\n",
    "title = \"PearsonR = \" + str(round(score,3))\n",
    "fig.update_layout(title= title,\n",
    "                xaxis_title=\"True LogFC\",\n",
    "                yaxis_title=\"Estimated LogFC\")"
   ]
  },
  {
   "cell_type": "code",
   "execution_count": 16,
   "metadata": {},
   "outputs": [
    {
     "output_type": "stream",
     "name": "stdout",
     "text": [
      "Protein table has passed integrity test.\n"
     ]
    }
   ],
   "source": []
  },
  {
   "cell_type": "code",
   "execution_count": 30,
   "metadata": {},
   "outputs": [],
   "source": []
  },
  {
   "cell_type": "code",
   "execution_count": 21,
   "metadata": {},
   "outputs": [
    {
     "output_type": "execute_result",
     "data": {
      "text/plain": [
       "       Run  ProteinGroupId  log2NInt_ProteinGroupId  Imputed  summarization  \\\n",
       "0        1               0                31.657401        0              1   \n",
       "1        1               1                33.122026        0              1   \n",
       "2        1               2                32.892258        0              1   \n",
       "3        1               3                32.647908        0              1   \n",
       "4        1               4                31.466482        0              1   \n",
       "...    ...             ...                      ...      ...            ...   \n",
       "17193    8            3029                27.864209        0              1   \n",
       "17195    8            3033                29.050300        0              1   \n",
       "17196    8            3035                29.624503        0              1   \n",
       "17197    8            3036                30.522595        0              1   \n",
       "17199    8            3041                27.476746        0              1   \n",
       "\n",
       "           nRLE    z_norm condition  replicate  run_id  \n",
       "0      3.185743  0.923771      UPS1          2  UPS1.2  \n",
       "1      2.666433  0.916965      UPS1          2  UPS1.2  \n",
       "2      0.276345  0.790109      UPS1          2  UPS1.2  \n",
       "3      2.697092  0.913409      UPS1          2  UPS1.2  \n",
       "4      1.680895  0.904159      UPS1          2  UPS1.2  \n",
       "...         ...       ...       ...        ...     ...  \n",
       "17193  0.008524 -0.018690      UPS2          3  UPS2.3  \n",
       "17195  1.082862  1.718106      UPS2          3  UPS2.3  \n",
       "17196 -0.043515 -0.313311      UPS2          3  UPS2.3  \n",
       "17197 -0.069083 -1.043398      UPS2          3  UPS2.3  \n",
       "17199  0.211987  0.698605      UPS2          3  UPS2.3  \n",
       "\n",
       "[15958 rows x 10 columns]"
      ],
      "text/html": "<div>\n<style scoped>\n    .dataframe tbody tr th:only-of-type {\n        vertical-align: middle;\n    }\n\n    .dataframe tbody tr th {\n        vertical-align: top;\n    }\n\n    .dataframe thead th {\n        text-align: right;\n    }\n</style>\n<table border=\"1\" class=\"dataframe\">\n  <thead>\n    <tr style=\"text-align: right;\">\n      <th></th>\n      <th>Run</th>\n      <th>ProteinGroupId</th>\n      <th>log2NInt_ProteinGroupId</th>\n      <th>Imputed</th>\n      <th>summarization</th>\n      <th>nRLE</th>\n      <th>z_norm</th>\n      <th>condition</th>\n      <th>replicate</th>\n      <th>run_id</th>\n    </tr>\n  </thead>\n  <tbody>\n    <tr>\n      <th>0</th>\n      <td>1</td>\n      <td>0</td>\n      <td>31.657401</td>\n      <td>0</td>\n      <td>1</td>\n      <td>3.185743</td>\n      <td>0.923771</td>\n      <td>UPS1</td>\n      <td>2</td>\n      <td>UPS1.2</td>\n    </tr>\n    <tr>\n      <th>1</th>\n      <td>1</td>\n      <td>1</td>\n      <td>33.122026</td>\n      <td>0</td>\n      <td>1</td>\n      <td>2.666433</td>\n      <td>0.916965</td>\n      <td>UPS1</td>\n      <td>2</td>\n      <td>UPS1.2</td>\n    </tr>\n    <tr>\n      <th>2</th>\n      <td>1</td>\n      <td>2</td>\n      <td>32.892258</td>\n      <td>0</td>\n      <td>1</td>\n      <td>0.276345</td>\n      <td>0.790109</td>\n      <td>UPS1</td>\n      <td>2</td>\n      <td>UPS1.2</td>\n    </tr>\n    <tr>\n      <th>3</th>\n      <td>1</td>\n      <td>3</td>\n      <td>32.647908</td>\n      <td>0</td>\n      <td>1</td>\n      <td>2.697092</td>\n      <td>0.913409</td>\n      <td>UPS1</td>\n      <td>2</td>\n      <td>UPS1.2</td>\n    </tr>\n    <tr>\n      <th>4</th>\n      <td>1</td>\n      <td>4</td>\n      <td>31.466482</td>\n      <td>0</td>\n      <td>1</td>\n      <td>1.680895</td>\n      <td>0.904159</td>\n      <td>UPS1</td>\n      <td>2</td>\n      <td>UPS1.2</td>\n    </tr>\n    <tr>\n      <th>...</th>\n      <td>...</td>\n      <td>...</td>\n      <td>...</td>\n      <td>...</td>\n      <td>...</td>\n      <td>...</td>\n      <td>...</td>\n      <td>...</td>\n      <td>...</td>\n      <td>...</td>\n    </tr>\n    <tr>\n      <th>17193</th>\n      <td>8</td>\n      <td>3029</td>\n      <td>27.864209</td>\n      <td>0</td>\n      <td>1</td>\n      <td>0.008524</td>\n      <td>-0.018690</td>\n      <td>UPS2</td>\n      <td>3</td>\n      <td>UPS2.3</td>\n    </tr>\n    <tr>\n      <th>17195</th>\n      <td>8</td>\n      <td>3033</td>\n      <td>29.050300</td>\n      <td>0</td>\n      <td>1</td>\n      <td>1.082862</td>\n      <td>1.718106</td>\n      <td>UPS2</td>\n      <td>3</td>\n      <td>UPS2.3</td>\n    </tr>\n    <tr>\n      <th>17196</th>\n      <td>8</td>\n      <td>3035</td>\n      <td>29.624503</td>\n      <td>0</td>\n      <td>1</td>\n      <td>-0.043515</td>\n      <td>-0.313311</td>\n      <td>UPS2</td>\n      <td>3</td>\n      <td>UPS2.3</td>\n    </tr>\n    <tr>\n      <th>17197</th>\n      <td>8</td>\n      <td>3036</td>\n      <td>30.522595</td>\n      <td>0</td>\n      <td>1</td>\n      <td>-0.069083</td>\n      <td>-1.043398</td>\n      <td>UPS2</td>\n      <td>3</td>\n      <td>UPS2.3</td>\n    </tr>\n    <tr>\n      <th>17199</th>\n      <td>8</td>\n      <td>3041</td>\n      <td>27.476746</td>\n      <td>0</td>\n      <td>1</td>\n      <td>0.211987</td>\n      <td>0.698605</td>\n      <td>UPS2</td>\n      <td>3</td>\n      <td>UPS2.3</td>\n    </tr>\n  </tbody>\n</table>\n<p>15958 rows × 10 columns</p>\n</div>"
     },
     "metadata": {},
     "execution_count": 21
    }
   ],
   "source": [
    "filtered"
   ]
  },
  {
   "cell_type": "code",
   "execution_count": 35,
   "metadata": {},
   "outputs": [
    {
     "output_type": "execute_result",
     "data": {
      "text/plain": [
       "0         True\n",
       "1         True\n",
       "2         True\n",
       "3         True\n",
       "4         True\n",
       "         ...  \n",
       "17193    False\n",
       "17195    False\n",
       "17196    False\n",
       "17197    False\n",
       "17199    False\n",
       "Name: ProteinId, Length: 15958, dtype: bool"
      ]
     },
     "metadata": {},
     "execution_count": 35
    }
   ],
   "source": []
  },
  {
   "cell_type": "code",
   "execution_count": null,
   "metadata": {},
   "outputs": [],
   "source": []
  }
 ]
}