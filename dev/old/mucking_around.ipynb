{
 "metadata": {
  "language_info": {
   "codemirror_mode": {
    "name": "ipython",
    "version": 3
   },
   "file_extension": ".py",
   "mimetype": "text/x-python",
   "name": "python",
   "nbconvert_exporter": "python",
   "pygments_lexer": "ipython3",
   "version": "3.7.7-final"
  },
  "orig_nbformat": 2,
  "kernelspec": {
   "name": "python3",
   "display_name": "Python 3",
   "language": "python"
  }
 },
 "nbformat": 4,
 "nbformat_minor": 2,
 "cells": [
  {
   "cell_type": "code",
   "execution_count": 38,
   "metadata": {},
   "outputs": [],
   "source": [
    "import pandas as pd\n",
    "experiment_home = \"/mnt/d/Dropbox/MassDynamics_local/experiments/byo_upload_example\"\n",
    "proteinGroups = pd.read_csv(os.path.join(experiment_home,\"proteinGroups.txt\"), sep = \"\\t\")\n",
    "summary = pd.read_csv(os.path.join(experiment_home,\"summary.txt\"), sep = \"\\t\")\n",
    "exp_des_original = pd.read_csv(os.path.join(experiment_home,\"experimentDesign_original.txt\"), sep = \"\\t\")"
   ]
  },
  {
   "cell_type": "code",
   "execution_count": 24,
   "metadata": {},
   "outputs": [
    {
     "output_type": "execute_result",
     "data": {
      "text/plain": [
       "                        Raw file Experiment     Enzyme Enzyme mode  \\\n",
       "0  20130510_EXQ1_IgPa_QC_UPS1_04       1_04  Trypsin/P    Specific   \n",
       "1  20130510_EXQ1_IgPa_QC_UPS2_01       2_01  Trypsin/P    Specific   \n",
       "2  20130510_EXQ1_IgPa_QC_UPS2_02       2_02  Trypsin/P    Specific   \n",
       "3  20130510_EXQ1_IgPa_QC_UPS2_03       2_03  Trypsin/P    Specific   \n",
       "4  20130510_EXQ1_IgPa_QC_UPS2_04       2_04  Trypsin/P    Specific   \n",
       "5  20130510_EXQ1_IgPa_QC_UPS1_01       1_01  Trypsin/P    Specific   \n",
       "6  20130510_EXQ1_IgPa_QC_UPS1_02       1_02  Trypsin/P    Specific   \n",
       "7  20130510_EXQ1_IgPa_QC_UPS1_03       1_03  Trypsin/P    Specific   \n",
       "8                          Total        NaN        NaN         NaN   \n",
       "\n",
       "   Enzyme first search  Enzyme mode first search Use enzyme first search  \\\n",
       "0                  NaN                       NaN                   False   \n",
       "1                  NaN                       NaN                   False   \n",
       "2                  NaN                       NaN                   False   \n",
       "3                  NaN                       NaN                   False   \n",
       "4                  NaN                       NaN                   False   \n",
       "5                  NaN                       NaN                   False   \n",
       "6                  NaN                       NaN                   False   \n",
       "7                  NaN                       NaN                   False   \n",
       "8                  NaN                       NaN                     NaN   \n",
       "\n",
       "                              Variable modifications  Fixed modifications  \\\n",
       "0  Oxidation (M);Acetyl (Protein N-term);Gln->pyr...  Carbamidomethyl (C)   \n",
       "1  Oxidation (M);Acetyl (Protein N-term);Gln->pyr...  Carbamidomethyl (C)   \n",
       "2  Oxidation (M);Acetyl (Protein N-term);Gln->pyr...  Carbamidomethyl (C)   \n",
       "3  Oxidation (M);Acetyl (Protein N-term);Gln->pyr...  Carbamidomethyl (C)   \n",
       "4  Oxidation (M);Acetyl (Protein N-term);Gln->pyr...  Carbamidomethyl (C)   \n",
       "5  Oxidation (M);Acetyl (Protein N-term);Gln->pyr...  Carbamidomethyl (C)   \n",
       "6  Oxidation (M);Acetyl (Protein N-term);Gln->pyr...  Carbamidomethyl (C)   \n",
       "7  Oxidation (M);Acetyl (Protein N-term);Gln->pyr...  Carbamidomethyl (C)   \n",
       "8                                                NaN                  NaN   \n",
       "\n",
       "   Multi modifications  ...  Isotope Patterns Sequenced [%]  \\\n",
       "0                  NaN  ...                              24   \n",
       "1                  NaN  ...                              25   \n",
       "2                  NaN  ...                              20   \n",
       "3                  NaN  ...                              26   \n",
       "4                  NaN  ...                              24   \n",
       "5                  NaN  ...                              21   \n",
       "6                  NaN  ...                              23   \n",
       "7                  NaN  ...                              20   \n",
       "8                  NaN  ...                              23   \n",
       "\n",
       "  Isotope Patterns Sequenced (z>1) [%] Isotope Patterns Repeatedly Sequenced  \\\n",
       "0                                   29                                  7803   \n",
       "1                                   30                                  8066   \n",
       "2                                   24                                  9221   \n",
       "3                                   32                                  9262   \n",
       "4                                   29                                  8903   \n",
       "5                                   25                                  8739   \n",
       "6                                   28                                  8461   \n",
       "7                                   23                                  8867   \n",
       "8                                   27                                 69322   \n",
       "\n",
       "   Isotope Patterns Repeatedly Sequenced [%]  Recalibrated  \\\n",
       "0                                         13             +   \n",
       "1                                         14             +   \n",
       "2                                         21             +   \n",
       "3                                         18             +   \n",
       "4                                         17             +   \n",
       "5                                         20             +   \n",
       "6                                         16             +   \n",
       "7                                         19             +   \n",
       "8                                         17           NaN   \n",
       "\n",
       "   Av. Absolute Mass Deviation [ppm] Mass Standard Deviation [ppm]  \\\n",
       "0                            0.76200                        1.0662   \n",
       "1                            0.76245                        1.0695   \n",
       "2                            0.81677                        1.1255   \n",
       "3                            0.73999                        1.0368   \n",
       "4                            0.78662                        1.0938   \n",
       "5                            0.77163                        1.0719   \n",
       "6                            0.78112                        1.0851   \n",
       "7                            0.84579                        1.1676   \n",
       "8                            0.78194                        1.0888   \n",
       "\n",
       "   Av. Absolute Mass Deviation [mDa]  Mass Standard Deviation [mDa]  \\\n",
       "0                            0.58686                        0.87710   \n",
       "1                            0.58210                        0.87183   \n",
       "2                            0.62355                        0.92173   \n",
       "3                            0.56751                        0.84124   \n",
       "4                            0.60080                        0.88788   \n",
       "5                            0.57209                        0.85181   \n",
       "6                            0.59033                        0.87423   \n",
       "7                            0.64078                        0.94394   \n",
       "8                            0.59495                        0.88365   \n",
       "\n",
       "   Label free norm param  \n",
       "0                    NaN  \n",
       "1                    NaN  \n",
       "2                    NaN  \n",
       "3                    NaN  \n",
       "4                    NaN  \n",
       "5                    NaN  \n",
       "6                    NaN  \n",
       "7                    NaN  \n",
       "8                    NaN  \n",
       "\n",
       "[9 rows x 52 columns]"
      ],
      "text/html": "<div>\n<style scoped>\n    .dataframe tbody tr th:only-of-type {\n        vertical-align: middle;\n    }\n\n    .dataframe tbody tr th {\n        vertical-align: top;\n    }\n\n    .dataframe thead th {\n        text-align: right;\n    }\n</style>\n<table border=\"1\" class=\"dataframe\">\n  <thead>\n    <tr style=\"text-align: right;\">\n      <th></th>\n      <th>Raw file</th>\n      <th>Experiment</th>\n      <th>Enzyme</th>\n      <th>Enzyme mode</th>\n      <th>Enzyme first search</th>\n      <th>Enzyme mode first search</th>\n      <th>Use enzyme first search</th>\n      <th>Variable modifications</th>\n      <th>Fixed modifications</th>\n      <th>Multi modifications</th>\n      <th>...</th>\n      <th>Isotope Patterns Sequenced [%]</th>\n      <th>Isotope Patterns Sequenced (z&gt;1) [%]</th>\n      <th>Isotope Patterns Repeatedly Sequenced</th>\n      <th>Isotope Patterns Repeatedly Sequenced [%]</th>\n      <th>Recalibrated</th>\n      <th>Av. Absolute Mass Deviation [ppm]</th>\n      <th>Mass Standard Deviation [ppm]</th>\n      <th>Av. Absolute Mass Deviation [mDa]</th>\n      <th>Mass Standard Deviation [mDa]</th>\n      <th>Label free norm param</th>\n    </tr>\n  </thead>\n  <tbody>\n    <tr>\n      <th>0</th>\n      <td>20130510_EXQ1_IgPa_QC_UPS1_04</td>\n      <td>1_04</td>\n      <td>Trypsin/P</td>\n      <td>Specific</td>\n      <td>NaN</td>\n      <td>NaN</td>\n      <td>False</td>\n      <td>Oxidation (M);Acetyl (Protein N-term);Gln-&gt;pyr...</td>\n      <td>Carbamidomethyl (C)</td>\n      <td>NaN</td>\n      <td>...</td>\n      <td>24</td>\n      <td>29</td>\n      <td>7803</td>\n      <td>13</td>\n      <td>+</td>\n      <td>0.76200</td>\n      <td>1.0662</td>\n      <td>0.58686</td>\n      <td>0.87710</td>\n      <td>NaN</td>\n    </tr>\n    <tr>\n      <th>1</th>\n      <td>20130510_EXQ1_IgPa_QC_UPS2_01</td>\n      <td>2_01</td>\n      <td>Trypsin/P</td>\n      <td>Specific</td>\n      <td>NaN</td>\n      <td>NaN</td>\n      <td>False</td>\n      <td>Oxidation (M);Acetyl (Protein N-term);Gln-&gt;pyr...</td>\n      <td>Carbamidomethyl (C)</td>\n      <td>NaN</td>\n      <td>...</td>\n      <td>25</td>\n      <td>30</td>\n      <td>8066</td>\n      <td>14</td>\n      <td>+</td>\n      <td>0.76245</td>\n      <td>1.0695</td>\n      <td>0.58210</td>\n      <td>0.87183</td>\n      <td>NaN</td>\n    </tr>\n    <tr>\n      <th>2</th>\n      <td>20130510_EXQ1_IgPa_QC_UPS2_02</td>\n      <td>2_02</td>\n      <td>Trypsin/P</td>\n      <td>Specific</td>\n      <td>NaN</td>\n      <td>NaN</td>\n      <td>False</td>\n      <td>Oxidation (M);Acetyl (Protein N-term);Gln-&gt;pyr...</td>\n      <td>Carbamidomethyl (C)</td>\n      <td>NaN</td>\n      <td>...</td>\n      <td>20</td>\n      <td>24</td>\n      <td>9221</td>\n      <td>21</td>\n      <td>+</td>\n      <td>0.81677</td>\n      <td>1.1255</td>\n      <td>0.62355</td>\n      <td>0.92173</td>\n      <td>NaN</td>\n    </tr>\n    <tr>\n      <th>3</th>\n      <td>20130510_EXQ1_IgPa_QC_UPS2_03</td>\n      <td>2_03</td>\n      <td>Trypsin/P</td>\n      <td>Specific</td>\n      <td>NaN</td>\n      <td>NaN</td>\n      <td>False</td>\n      <td>Oxidation (M);Acetyl (Protein N-term);Gln-&gt;pyr...</td>\n      <td>Carbamidomethyl (C)</td>\n      <td>NaN</td>\n      <td>...</td>\n      <td>26</td>\n      <td>32</td>\n      <td>9262</td>\n      <td>18</td>\n      <td>+</td>\n      <td>0.73999</td>\n      <td>1.0368</td>\n      <td>0.56751</td>\n      <td>0.84124</td>\n      <td>NaN</td>\n    </tr>\n    <tr>\n      <th>4</th>\n      <td>20130510_EXQ1_IgPa_QC_UPS2_04</td>\n      <td>2_04</td>\n      <td>Trypsin/P</td>\n      <td>Specific</td>\n      <td>NaN</td>\n      <td>NaN</td>\n      <td>False</td>\n      <td>Oxidation (M);Acetyl (Protein N-term);Gln-&gt;pyr...</td>\n      <td>Carbamidomethyl (C)</td>\n      <td>NaN</td>\n      <td>...</td>\n      <td>24</td>\n      <td>29</td>\n      <td>8903</td>\n      <td>17</td>\n      <td>+</td>\n      <td>0.78662</td>\n      <td>1.0938</td>\n      <td>0.60080</td>\n      <td>0.88788</td>\n      <td>NaN</td>\n    </tr>\n    <tr>\n      <th>5</th>\n      <td>20130510_EXQ1_IgPa_QC_UPS1_01</td>\n      <td>1_01</td>\n      <td>Trypsin/P</td>\n      <td>Specific</td>\n      <td>NaN</td>\n      <td>NaN</td>\n      <td>False</td>\n      <td>Oxidation (M);Acetyl (Protein N-term);Gln-&gt;pyr...</td>\n      <td>Carbamidomethyl (C)</td>\n      <td>NaN</td>\n      <td>...</td>\n      <td>21</td>\n      <td>25</td>\n      <td>8739</td>\n      <td>20</td>\n      <td>+</td>\n      <td>0.77163</td>\n      <td>1.0719</td>\n      <td>0.57209</td>\n      <td>0.85181</td>\n      <td>NaN</td>\n    </tr>\n    <tr>\n      <th>6</th>\n      <td>20130510_EXQ1_IgPa_QC_UPS1_02</td>\n      <td>1_02</td>\n      <td>Trypsin/P</td>\n      <td>Specific</td>\n      <td>NaN</td>\n      <td>NaN</td>\n      <td>False</td>\n      <td>Oxidation (M);Acetyl (Protein N-term);Gln-&gt;pyr...</td>\n      <td>Carbamidomethyl (C)</td>\n      <td>NaN</td>\n      <td>...</td>\n      <td>23</td>\n      <td>28</td>\n      <td>8461</td>\n      <td>16</td>\n      <td>+</td>\n      <td>0.78112</td>\n      <td>1.0851</td>\n      <td>0.59033</td>\n      <td>0.87423</td>\n      <td>NaN</td>\n    </tr>\n    <tr>\n      <th>7</th>\n      <td>20130510_EXQ1_IgPa_QC_UPS1_03</td>\n      <td>1_03</td>\n      <td>Trypsin/P</td>\n      <td>Specific</td>\n      <td>NaN</td>\n      <td>NaN</td>\n      <td>False</td>\n      <td>Oxidation (M);Acetyl (Protein N-term);Gln-&gt;pyr...</td>\n      <td>Carbamidomethyl (C)</td>\n      <td>NaN</td>\n      <td>...</td>\n      <td>20</td>\n      <td>23</td>\n      <td>8867</td>\n      <td>19</td>\n      <td>+</td>\n      <td>0.84579</td>\n      <td>1.1676</td>\n      <td>0.64078</td>\n      <td>0.94394</td>\n      <td>NaN</td>\n    </tr>\n    <tr>\n      <th>8</th>\n      <td>Total</td>\n      <td>NaN</td>\n      <td>NaN</td>\n      <td>NaN</td>\n      <td>NaN</td>\n      <td>NaN</td>\n      <td>NaN</td>\n      <td>NaN</td>\n      <td>NaN</td>\n      <td>NaN</td>\n      <td>...</td>\n      <td>23</td>\n      <td>27</td>\n      <td>69322</td>\n      <td>17</td>\n      <td>NaN</td>\n      <td>0.78194</td>\n      <td>1.0888</td>\n      <td>0.59495</td>\n      <td>0.88365</td>\n      <td>NaN</td>\n    </tr>\n  </tbody>\n</table>\n<p>9 rows × 52 columns</p>\n</div>"
     },
     "metadata": {},
     "execution_count": 24
    }
   ],
   "source": [
    "summary"
   ]
  },
  {
   "cell_type": "code",
   "execution_count": 25,
   "metadata": {},
   "outputs": [
    {
     "output_type": "execute_result",
     "data": {
      "text/plain": [
       "                                         Protein IDs  \\\n",
       "0  CON__A2A4G1;CON__P08727;CON__P19001;CON__Q7Z3Z...   \n",
       "1                    CON__ENSEMBL:ENSBTAP00000038253   \n",
       "2                                        CON__P00761   \n",
       "3                                        CON__P01966   \n",
       "4  CON__P02533;CON__Q04695;CON__Q9QWL7;CON__Q9Z2K...   \n",
       "\n",
       "              Majority protein IDs Peptide counts (all)  \\\n",
       "0                      CON__A2A4G1      5;2;2;1;1;1;1;1   \n",
       "1  CON__ENSEMBL:ENSBTAP00000038253                    7   \n",
       "2                      CON__P00761                    4   \n",
       "3                      CON__P01966                    5   \n",
       "4                      CON__P02533          9;4;4;2;2;1   \n",
       "\n",
       "  Peptide counts (razor+unique) Peptide counts (unique) Fasta headers  \\\n",
       "0               2;0;0;0;0;0;0;0         2;0;0;0;0;0;0;0           NaN   \n",
       "1                             3                       3           NaN   \n",
       "2                             4                       4           NaN   \n",
       "3                             1                       1           NaN   \n",
       "4                   7;3;3;1;1;1             3;2;2;0;0;1           NaN   \n",
       "\n",
       "   Number of proteins  Peptides  Razor + unique peptides  Unique peptides  \\\n",
       "0                   8         5                        2                2   \n",
       "1                   1         7                        3                3   \n",
       "2                   1         4                        4                4   \n",
       "3                   1         5                        1                1   \n",
       "4                   6         9                        7                3   \n",
       "\n",
       "   ...  id                                       Peptide IDs  \\\n",
       "0  ...   0                       855;11664;14360;22601;23477   \n",
       "1  ...   1              822;1935;4090;6413;17346;19437;19460   \n",
       "2  ...   2                           10211;12277;13768;21808   \n",
       "3  ...   3                     13607;14533;21583;21932;22226   \n",
       "4  ...   4  1781;2033;2592;5710;8309;10785;11664;22601;23477   \n",
       "\n",
       "                                 Peptide is razor  \\\n",
       "0                     True;False;True;False;False   \n",
       "1          True;False;False;False;True;True;False   \n",
       "2                             True;True;True;True   \n",
       "3                    False;False;False;False;True   \n",
       "4  True;True;True;True;True;True;False;True;False   \n",
       "\n",
       "                                    Mod. peptide IDs  \\\n",
       "0                  913;12596;15489;24993;25961;25962   \n",
       "1          879;2129;4432;4433;6922;19114;21564;21590   \n",
       "2                      11043;11044;13240;14855;24130   \n",
       "3                14684;15727;15728;23886;24265;24583   \n",
       "4  1962;2230;2826;6176;8987;11665;12596;24993;259...   \n",
       "\n",
       "                                        Evidence IDs  \\\n",
       "0  13910;177961;177962;177963;177964;177965;17796...   \n",
       "1  13513;31863;31864;31865;31866;31867;66070;6607...   \n",
       "2  155551;155552;155553;155554;155555;155556;1555...   \n",
       "3  204484;204485;204486;204487;204488;204489;2044...   \n",
       "4  29530;29531;29532;32951;32952;32953;42359;4236...   \n",
       "\n",
       "                                           MS/MS IDs  \\\n",
       "0  13443;172812;172813;207522;207523;207524;32547...   \n",
       "1  13087;31279;31280;65785;65786;98884;98885;9888...   \n",
       "2  150388;150389;150390;150391;150392;150393;1503...   \n",
       "3  198593;198594;198595;198596;198597;198598;1985...   \n",
       "4  28390;32163;32164;41548;41549;86886;86887;8688...   \n",
       "\n",
       "                                          Best MS/MS  Oxidation (M) site IDs  \\\n",
       "0                  13443;172813;207523;325478;336743                       0   \n",
       "1       13087;31280;65785;98888;248394;275905;276327                       1   \n",
       "2                        150403;181573;200160;310366                       2   \n",
       "3                 198600;209898;306979;314033;319171                       3   \n",
       "4  28390;32164;41548;86888;125375;161745;172813;3...                       0   \n",
       "\n",
       "   Oxidation (M) site positions             Taxonomy IDs  \n",
       "0                           102  -1;-1;-1;-1;-1;-1;-1;-1  \n",
       "1                           465                       -1  \n",
       "2                            94                       -1  \n",
       "3                            33                       -1  \n",
       "4                           119        -1;-1;-1;-1;-1;-1  \n",
       "\n",
       "[5 rows x 97 columns]"
      ],
      "text/html": "<div>\n<style scoped>\n    .dataframe tbody tr th:only-of-type {\n        vertical-align: middle;\n    }\n\n    .dataframe tbody tr th {\n        vertical-align: top;\n    }\n\n    .dataframe thead th {\n        text-align: right;\n    }\n</style>\n<table border=\"1\" class=\"dataframe\">\n  <thead>\n    <tr style=\"text-align: right;\">\n      <th></th>\n      <th>Protein IDs</th>\n      <th>Majority protein IDs</th>\n      <th>Peptide counts (all)</th>\n      <th>Peptide counts (razor+unique)</th>\n      <th>Peptide counts (unique)</th>\n      <th>Fasta headers</th>\n      <th>Number of proteins</th>\n      <th>Peptides</th>\n      <th>Razor + unique peptides</th>\n      <th>Unique peptides</th>\n      <th>...</th>\n      <th>id</th>\n      <th>Peptide IDs</th>\n      <th>Peptide is razor</th>\n      <th>Mod. peptide IDs</th>\n      <th>Evidence IDs</th>\n      <th>MS/MS IDs</th>\n      <th>Best MS/MS</th>\n      <th>Oxidation (M) site IDs</th>\n      <th>Oxidation (M) site positions</th>\n      <th>Taxonomy IDs</th>\n    </tr>\n  </thead>\n  <tbody>\n    <tr>\n      <th>0</th>\n      <td>CON__A2A4G1;CON__P08727;CON__P19001;CON__Q7Z3Z...</td>\n      <td>CON__A2A4G1</td>\n      <td>5;2;2;1;1;1;1;1</td>\n      <td>2;0;0;0;0;0;0;0</td>\n      <td>2;0;0;0;0;0;0;0</td>\n      <td>NaN</td>\n      <td>8</td>\n      <td>5</td>\n      <td>2</td>\n      <td>2</td>\n      <td>...</td>\n      <td>0</td>\n      <td>855;11664;14360;22601;23477</td>\n      <td>True;False;True;False;False</td>\n      <td>913;12596;15489;24993;25961;25962</td>\n      <td>13910;177961;177962;177963;177964;177965;17796...</td>\n      <td>13443;172812;172813;207522;207523;207524;32547...</td>\n      <td>13443;172813;207523;325478;336743</td>\n      <td>0</td>\n      <td>102</td>\n      <td>-1;-1;-1;-1;-1;-1;-1;-1</td>\n    </tr>\n    <tr>\n      <th>1</th>\n      <td>CON__ENSEMBL:ENSBTAP00000038253</td>\n      <td>CON__ENSEMBL:ENSBTAP00000038253</td>\n      <td>7</td>\n      <td>3</td>\n      <td>3</td>\n      <td>NaN</td>\n      <td>1</td>\n      <td>7</td>\n      <td>3</td>\n      <td>3</td>\n      <td>...</td>\n      <td>1</td>\n      <td>822;1935;4090;6413;17346;19437;19460</td>\n      <td>True;False;False;False;True;True;False</td>\n      <td>879;2129;4432;4433;6922;19114;21564;21590</td>\n      <td>13513;31863;31864;31865;31866;31867;66070;6607...</td>\n      <td>13087;31279;31280;65785;65786;98884;98885;9888...</td>\n      <td>13087;31280;65785;98888;248394;275905;276327</td>\n      <td>1</td>\n      <td>465</td>\n      <td>-1</td>\n    </tr>\n    <tr>\n      <th>2</th>\n      <td>CON__P00761</td>\n      <td>CON__P00761</td>\n      <td>4</td>\n      <td>4</td>\n      <td>4</td>\n      <td>NaN</td>\n      <td>1</td>\n      <td>4</td>\n      <td>4</td>\n      <td>4</td>\n      <td>...</td>\n      <td>2</td>\n      <td>10211;12277;13768;21808</td>\n      <td>True;True;True;True</td>\n      <td>11043;11044;13240;14855;24130</td>\n      <td>155551;155552;155553;155554;155555;155556;1555...</td>\n      <td>150388;150389;150390;150391;150392;150393;1503...</td>\n      <td>150403;181573;200160;310366</td>\n      <td>2</td>\n      <td>94</td>\n      <td>-1</td>\n    </tr>\n    <tr>\n      <th>3</th>\n      <td>CON__P01966</td>\n      <td>CON__P01966</td>\n      <td>5</td>\n      <td>1</td>\n      <td>1</td>\n      <td>NaN</td>\n      <td>1</td>\n      <td>5</td>\n      <td>1</td>\n      <td>1</td>\n      <td>...</td>\n      <td>3</td>\n      <td>13607;14533;21583;21932;22226</td>\n      <td>False;False;False;False;True</td>\n      <td>14684;15727;15728;23886;24265;24583</td>\n      <td>204484;204485;204486;204487;204488;204489;2044...</td>\n      <td>198593;198594;198595;198596;198597;198598;1985...</td>\n      <td>198600;209898;306979;314033;319171</td>\n      <td>3</td>\n      <td>33</td>\n      <td>-1</td>\n    </tr>\n    <tr>\n      <th>4</th>\n      <td>CON__P02533;CON__Q04695;CON__Q9QWL7;CON__Q9Z2K...</td>\n      <td>CON__P02533</td>\n      <td>9;4;4;2;2;1</td>\n      <td>7;3;3;1;1;1</td>\n      <td>3;2;2;0;0;1</td>\n      <td>NaN</td>\n      <td>6</td>\n      <td>9</td>\n      <td>7</td>\n      <td>3</td>\n      <td>...</td>\n      <td>4</td>\n      <td>1781;2033;2592;5710;8309;10785;11664;22601;23477</td>\n      <td>True;True;True;True;True;True;False;True;False</td>\n      <td>1962;2230;2826;6176;8987;11665;12596;24993;259...</td>\n      <td>29530;29531;29532;32951;32952;32953;42359;4236...</td>\n      <td>28390;32163;32164;41548;41549;86886;86887;8688...</td>\n      <td>28390;32164;41548;86888;125375;161745;172813;3...</td>\n      <td>0</td>\n      <td>119</td>\n      <td>-1;-1;-1;-1;-1;-1</td>\n    </tr>\n  </tbody>\n</table>\n<p>5 rows × 97 columns</p>\n</div>"
     },
     "metadata": {},
     "execution_count": 25
    }
   ],
   "source": [
    "proteinGroups.head(5)"
   ]
  },
  {
   "cell_type": "code",
   "execution_count": 27,
   "metadata": {},
   "outputs": [
    {
     "output_type": "execute_result",
     "data": {
      "text/plain": [
       "                        Raw file Experiment\n",
       "0  20130510_EXQ1_IgPa_QC_UPS1_04       1_04\n",
       "1  20130510_EXQ1_IgPa_QC_UPS2_01       2_01\n",
       "2  20130510_EXQ1_IgPa_QC_UPS2_02       2_02\n",
       "3  20130510_EXQ1_IgPa_QC_UPS2_03       2_03\n",
       "4  20130510_EXQ1_IgPa_QC_UPS2_04       2_04\n",
       "5  20130510_EXQ1_IgPa_QC_UPS1_01       1_01\n",
       "6  20130510_EXQ1_IgPa_QC_UPS1_02       1_02\n",
       "7  20130510_EXQ1_IgPa_QC_UPS1_03       1_03\n",
       "8                          Total        NaN"
      ],
      "text/html": "<div>\n<style scoped>\n    .dataframe tbody tr th:only-of-type {\n        vertical-align: middle;\n    }\n\n    .dataframe tbody tr th {\n        vertical-align: top;\n    }\n\n    .dataframe thead th {\n        text-align: right;\n    }\n</style>\n<table border=\"1\" class=\"dataframe\">\n  <thead>\n    <tr style=\"text-align: right;\">\n      <th></th>\n      <th>Raw file</th>\n      <th>Experiment</th>\n    </tr>\n  </thead>\n  <tbody>\n    <tr>\n      <th>0</th>\n      <td>20130510_EXQ1_IgPa_QC_UPS1_04</td>\n      <td>1_04</td>\n    </tr>\n    <tr>\n      <th>1</th>\n      <td>20130510_EXQ1_IgPa_QC_UPS2_01</td>\n      <td>2_01</td>\n    </tr>\n    <tr>\n      <th>2</th>\n      <td>20130510_EXQ1_IgPa_QC_UPS2_02</td>\n      <td>2_02</td>\n    </tr>\n    <tr>\n      <th>3</th>\n      <td>20130510_EXQ1_IgPa_QC_UPS2_03</td>\n      <td>2_03</td>\n    </tr>\n    <tr>\n      <th>4</th>\n      <td>20130510_EXQ1_IgPa_QC_UPS2_04</td>\n      <td>2_04</td>\n    </tr>\n    <tr>\n      <th>5</th>\n      <td>20130510_EXQ1_IgPa_QC_UPS1_01</td>\n      <td>1_01</td>\n    </tr>\n    <tr>\n      <th>6</th>\n      <td>20130510_EXQ1_IgPa_QC_UPS1_02</td>\n      <td>1_02</td>\n    </tr>\n    <tr>\n      <th>7</th>\n      <td>20130510_EXQ1_IgPa_QC_UPS1_03</td>\n      <td>1_03</td>\n    </tr>\n    <tr>\n      <th>8</th>\n      <td>Total</td>\n      <td>NaN</td>\n    </tr>\n  </tbody>\n</table>\n</div>"
     },
     "metadata": {},
     "execution_count": 27
    }
   ],
   "source": [
    "# get options for experiment names\n",
    "summary[[\"Raw file\", \"Experiment\"]]\n",
    "\n",
    "# via assignment to raw, add experiment names to MD condition"
   ]
  },
  {
   "cell_type": "code",
   "execution_count": 28,
   "metadata": {},
   "outputs": [
    {
     "output_type": "execute_result",
     "data": {
      "text/plain": [
       "Index(['Intensity', 'Intensity 1_01', 'Intensity 1_02', 'Intensity 1_03',\n",
       "       'Intensity 1_04', 'Intensity 2_01', 'Intensity 2_02', 'Intensity 2_03',\n",
       "       'Intensity 2_04'],\n",
       "      dtype='object')"
      ]
     },
     "metadata": {},
     "execution_count": 28
    }
   ],
   "source": [
    "proteinGroups.filter(regex = \"Intensity\").columns"
   ]
  },
  {
   "cell_type": "code",
   "execution_count": 29,
   "metadata": {},
   "outputs": [
    {
     "output_type": "execute_result",
     "data": {
      "text/plain": [
       "    Intensity  Intensity 1_01  Intensity 1_02  Intensity 1_03  Intensity 1_04  \\\n",
       "0   174280000        32422000        36636000        14649000        23417000   \n",
       "1  1040700000       115690000       151980000       112850000       114070000   \n",
       "\n",
       "   Intensity 2_01  Intensity 2_02  Intensity 2_03  Intensity 2_04  \n",
       "0        24818000        19269000         9347500        13718000  \n",
       "1       161220000       103720000       132900000       148260000  "
      ],
      "text/html": "<div>\n<style scoped>\n    .dataframe tbody tr th:only-of-type {\n        vertical-align: middle;\n    }\n\n    .dataframe tbody tr th {\n        vertical-align: top;\n    }\n\n    .dataframe thead th {\n        text-align: right;\n    }\n</style>\n<table border=\"1\" class=\"dataframe\">\n  <thead>\n    <tr style=\"text-align: right;\">\n      <th></th>\n      <th>Intensity</th>\n      <th>Intensity 1_01</th>\n      <th>Intensity 1_02</th>\n      <th>Intensity 1_03</th>\n      <th>Intensity 1_04</th>\n      <th>Intensity 2_01</th>\n      <th>Intensity 2_02</th>\n      <th>Intensity 2_03</th>\n      <th>Intensity 2_04</th>\n    </tr>\n  </thead>\n  <tbody>\n    <tr>\n      <th>0</th>\n      <td>174280000</td>\n      <td>32422000</td>\n      <td>36636000</td>\n      <td>14649000</td>\n      <td>23417000</td>\n      <td>24818000</td>\n      <td>19269000</td>\n      <td>9347500</td>\n      <td>13718000</td>\n    </tr>\n    <tr>\n      <th>1</th>\n      <td>1040700000</td>\n      <td>115690000</td>\n      <td>151980000</td>\n      <td>112850000</td>\n      <td>114070000</td>\n      <td>161220000</td>\n      <td>103720000</td>\n      <td>132900000</td>\n      <td>148260000</td>\n    </tr>\n  </tbody>\n</table>\n</div>"
     },
     "metadata": {},
     "execution_count": 29
    }
   ],
   "source": [
    "proteinGroups.filter(regex = \"Intensity\").head(2)"
   ]
  },
  {
   "cell_type": "code",
   "execution_count": 45,
   "metadata": {},
   "outputs": [
    {
     "output_type": "execute_result",
     "data": {
      "text/plain": [
       "                        Raw file Experiment\n",
       "5  20130510_EXQ1_IgPa_QC_UPS1_01       1_01\n",
       "6  20130510_EXQ1_IgPa_QC_UPS1_02       1_02\n",
       "7  20130510_EXQ1_IgPa_QC_UPS1_03       1_03\n",
       "0  20130510_EXQ1_IgPa_QC_UPS1_04       1_04\n",
       "1  20130510_EXQ1_IgPa_QC_UPS2_01       2_01\n",
       "2  20130510_EXQ1_IgPa_QC_UPS2_02       2_02\n",
       "3  20130510_EXQ1_IgPa_QC_UPS2_03       2_03\n",
       "4  20130510_EXQ1_IgPa_QC_UPS2_04       2_04"
      ],
      "text/html": "<div>\n<style scoped>\n    .dataframe tbody tr th:only-of-type {\n        vertical-align: middle;\n    }\n\n    .dataframe tbody tr th {\n        vertical-align: top;\n    }\n\n    .dataframe thead th {\n        text-align: right;\n    }\n</style>\n<table border=\"1\" class=\"dataframe\">\n  <thead>\n    <tr style=\"text-align: right;\">\n      <th></th>\n      <th>Raw file</th>\n      <th>Experiment</th>\n    </tr>\n  </thead>\n  <tbody>\n    <tr>\n      <th>5</th>\n      <td>20130510_EXQ1_IgPa_QC_UPS1_01</td>\n      <td>1_01</td>\n    </tr>\n    <tr>\n      <th>6</th>\n      <td>20130510_EXQ1_IgPa_QC_UPS1_02</td>\n      <td>1_02</td>\n    </tr>\n    <tr>\n      <th>7</th>\n      <td>20130510_EXQ1_IgPa_QC_UPS1_03</td>\n      <td>1_03</td>\n    </tr>\n    <tr>\n      <th>0</th>\n      <td>20130510_EXQ1_IgPa_QC_UPS1_04</td>\n      <td>1_04</td>\n    </tr>\n    <tr>\n      <th>1</th>\n      <td>20130510_EXQ1_IgPa_QC_UPS2_01</td>\n      <td>2_01</td>\n    </tr>\n    <tr>\n      <th>2</th>\n      <td>20130510_EXQ1_IgPa_QC_UPS2_02</td>\n      <td>2_02</td>\n    </tr>\n    <tr>\n      <th>3</th>\n      <td>20130510_EXQ1_IgPa_QC_UPS2_03</td>\n      <td>2_03</td>\n    </tr>\n    <tr>\n      <th>4</th>\n      <td>20130510_EXQ1_IgPa_QC_UPS2_04</td>\n      <td>2_04</td>\n    </tr>\n  </tbody>\n</table>\n</div>"
     },
     "metadata": {},
     "execution_count": 45
    }
   ],
   "source": [
    "eg = summary[[\"Raw file\", \"Experiment\"]].drop(8)\n",
    "eg = eg.sort_values(\"Raw file\")\n",
    "eg"
   ]
  },
  {
   "cell_type": "code",
   "execution_count": 48,
   "metadata": {},
   "outputs": [
    {
     "output_type": "execute_result",
     "data": {
      "text/plain": [
       "                            name  techRep  bioRep  fraction experiment  \\\n",
       "0  20130510_EXQ1_IgPa_QC_UPS1_01        1       1         0       UPS1   \n",
       "1  20130510_EXQ1_IgPa_QC_UPS1_02        1       2         0       UPS1   \n",
       "2  20130510_EXQ1_IgPa_QC_UPS1_03        1       3         0       UPS1   \n",
       "3  20130510_EXQ1_IgPa_QC_UPS1_04        1       4         0       UPS1   \n",
       "4  20130510_EXQ1_IgPa_QC_UPS2_01        1       1         0       UPS2   \n",
       "5  20130510_EXQ1_IgPa_QC_UPS2_02        1       2         0       UPS2   \n",
       "6  20130510_EXQ1_IgPa_QC_UPS2_03        1       3         0       UPS2   \n",
       "7  20130510_EXQ1_IgPa_QC_UPS2_04        1       4         0       UPS2   \n",
       "\n",
       "   remove MQ_experiment  \n",
       "0   False          1_01  \n",
       "1   False          1_02  \n",
       "2   False          1_03  \n",
       "3   False          1_04  \n",
       "4   False          2_01  \n",
       "5   False          2_02  \n",
       "6   False          2_03  \n",
       "7   False          2_04  "
      ],
      "text/html": "<div>\n<style scoped>\n    .dataframe tbody tr th:only-of-type {\n        vertical-align: middle;\n    }\n\n    .dataframe tbody tr th {\n        vertical-align: top;\n    }\n\n    .dataframe thead th {\n        text-align: right;\n    }\n</style>\n<table border=\"1\" class=\"dataframe\">\n  <thead>\n    <tr style=\"text-align: right;\">\n      <th></th>\n      <th>name</th>\n      <th>techRep</th>\n      <th>bioRep</th>\n      <th>fraction</th>\n      <th>experiment</th>\n      <th>remove</th>\n      <th>MQ_experiment</th>\n    </tr>\n  </thead>\n  <tbody>\n    <tr>\n      <th>0</th>\n      <td>20130510_EXQ1_IgPa_QC_UPS1_01</td>\n      <td>1</td>\n      <td>1</td>\n      <td>0</td>\n      <td>UPS1</td>\n      <td>False</td>\n      <td>1_01</td>\n    </tr>\n    <tr>\n      <th>1</th>\n      <td>20130510_EXQ1_IgPa_QC_UPS1_02</td>\n      <td>1</td>\n      <td>2</td>\n      <td>0</td>\n      <td>UPS1</td>\n      <td>False</td>\n      <td>1_02</td>\n    </tr>\n    <tr>\n      <th>2</th>\n      <td>20130510_EXQ1_IgPa_QC_UPS1_03</td>\n      <td>1</td>\n      <td>3</td>\n      <td>0</td>\n      <td>UPS1</td>\n      <td>False</td>\n      <td>1_03</td>\n    </tr>\n    <tr>\n      <th>3</th>\n      <td>20130510_EXQ1_IgPa_QC_UPS1_04</td>\n      <td>1</td>\n      <td>4</td>\n      <td>0</td>\n      <td>UPS1</td>\n      <td>False</td>\n      <td>1_04</td>\n    </tr>\n    <tr>\n      <th>4</th>\n      <td>20130510_EXQ1_IgPa_QC_UPS2_01</td>\n      <td>1</td>\n      <td>1</td>\n      <td>0</td>\n      <td>UPS2</td>\n      <td>False</td>\n      <td>2_01</td>\n    </tr>\n    <tr>\n      <th>5</th>\n      <td>20130510_EXQ1_IgPa_QC_UPS2_02</td>\n      <td>1</td>\n      <td>2</td>\n      <td>0</td>\n      <td>UPS2</td>\n      <td>False</td>\n      <td>2_02</td>\n    </tr>\n    <tr>\n      <th>6</th>\n      <td>20130510_EXQ1_IgPa_QC_UPS2_03</td>\n      <td>1</td>\n      <td>3</td>\n      <td>0</td>\n      <td>UPS2</td>\n      <td>False</td>\n      <td>2_03</td>\n    </tr>\n    <tr>\n      <th>7</th>\n      <td>20130510_EXQ1_IgPa_QC_UPS2_04</td>\n      <td>1</td>\n      <td>4</td>\n      <td>0</td>\n      <td>UPS2</td>\n      <td>False</td>\n      <td>2_04</td>\n    </tr>\n  </tbody>\n</table>\n</div>"
     },
     "metadata": {},
     "execution_count": 48
    }
   ],
   "source": [
    "exp_des_original[\"MQ_experiment\"] = eg[\"Experiment\"].to_list()\n",
    "exp_des_original"
   ]
  },
  {
   "cell_type": "code",
   "execution_count": null,
   "metadata": {},
   "outputs": [],
   "source": []
  }
 ]
}