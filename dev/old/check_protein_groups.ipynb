{
 "metadata": {
  "language_info": {
   "codemirror_mode": {
    "name": "ipython",
    "version": 3
   },
   "file_extension": ".py",
   "mimetype": "text/x-python",
   "name": "python",
   "nbconvert_exporter": "python",
   "pygments_lexer": "ipython3",
   "version": "3.8.3-final"
  },
  "orig_nbformat": 2,
  "kernelspec": {
   "name": "python3",
   "display_name": "Python 3",
   "language": "python"
  }
 },
 "nbformat": 4,
 "nbformat_minor": 2,
 "cells": [
  {
   "source": [
    "# Check Protein Groups"
   ],
   "cell_type": "markdown",
   "metadata": {}
  },
  {
   "cell_type": "code",
   "execution_count": 3,
   "metadata": {},
   "outputs": [
    {
     "output_type": "stream",
     "name": "stdout",
     "text": [
      "/mnt/d/Dropbox/MassDynamics_local/github_repos/discovery-benchmark/dev\n"
     ]
    }
   ],
   "source": [
    "! pwd"
   ]
  },
  {
   "cell_type": "code",
   "execution_count": 2,
   "metadata": {},
   "outputs": [],
   "source": [
    "import pandas as pd"
   ]
  },
  {
   "cell_type": "code",
   "execution_count": 3,
   "metadata": {},
   "outputs": [
    {
     "output_type": "stream",
     "name": "stdout",
     "text": [
      "Reverse\n(2314, 73)\n50\napply filter\n(2274, 73)\n48\n\nOnly identified by site\n(2274, 73)\n48\napply filter\n(2260, 73)\n48\n\nPotential contaminant\n(2260, 73)\n48\napply filter\n(2240, 73)\n46\n\n"
     ]
    }
   ],
   "source": [
    "# check data once you remove \n",
    "ups  = pd.read_csv(\"../protein_groups/proteinGroups_UPS.txt\", sep = \"\\t\")\n",
    "cols = ['Reverse','Only identified by site','Potential contaminant']\n",
    "for col in cols:\n",
    "    print(col)\n",
    "    print(ups.shape)\n",
    "    print(len(ups[\"Majority protein IDs\"][ups[\"Majority protein IDs\"].str.contains(\"ups\")].unique()))\n",
    "    print(\"apply filter\")\n",
    "    ups = ups[ups[col] != \"+\"]\n",
    "    print(ups.shape)\n",
    "    print(len(ups[\"Majority protein IDs\"][ups[\"Majority protein IDs\"].str.contains(\"ups\")].unique()))\n",
    "    print()\n",
    "    "
   ]
  },
  {
   "cell_type": "code",
   "execution_count": 27,
   "metadata": {},
   "outputs": [
    {
     "output_type": "stream",
     "name": "stdout",
     "text": [
      "48\n"
     ]
    },
    {
     "output_type": "execute_result",
     "data": {
      "text/plain": [
       "['P00915', 'P00918', 'P01031']"
      ]
     },
     "metadata": {},
     "execution_count": 27
    }
   ],
   "source": [
    "ups_proteins = pd.read_csv(\"../resources/UPS_benchmark.tsv\", sep = \"\\t\").iloc[:,0].to_list()\n",
    "print(len(ups_proteins))\n",
    "ups_proteins[0:3]"
   ]
  },
  {
   "cell_type": "code",
   "execution_count": 40,
   "metadata": {},
   "outputs": [
    {
     "output_type": "execute_result",
     "data": {
      "text/plain": [
       "6             P02768ups|ALBU_HUMAN_UPS;CON__P02768-1\n",
       "44              P06396ups|GELS_HUMAN_UPS;CON__Q3SX14\n",
       "73    REV__P06396ups|GELS_HUMAN_UPS;REV__CON__Q3SX14\n",
       "Name: Majority protein IDs, dtype: object"
      ]
     },
     "metadata": {},
     "execution_count": 40
    }
   ],
   "source": [
    "ups  = pd.read_csv(\"../protein_groups/proteinGroups_UPS.txt\", sep = \"\\t\")\n",
    "ups[\"Majority protein IDs\"][ups[\"Majority protein IDs\"].str.contains(\"ups\") & (ups[\"Potential contaminant\"] == \"+\")]"
   ]
  },
  {
   "source": [
    "# UPS Conclusion: \n",
    "Of 48 UPS proteins, 2 reverse sequences were generated, adding to 50 in total. After filtering by filter groups, we would lose 2 reverse sequences (good) but 2 potential contaminents (ovalbumin and gelsin) that we want to keep. To retain themm we will manually edit the file (reloading to be sure). \n",
    "The number of rows in the resulting data should be 2242. "
   ],
   "cell_type": "markdown",
   "metadata": {}
  },
  {
   "cell_type": "code",
   "execution_count": 41,
   "metadata": {},
   "outputs": [
    {
     "output_type": "stream",
     "name": "stdout",
     "text": [
      "Reverse\n(2314, 73)\n50\napply filter\n(2274, 73)\n48\n\nOnly identified by site\n(2274, 73)\n48\napply filter\n(2260, 73)\n48\n\nPotential contaminant\n(2260, 73)\n48\napply filter\n(2242, 73)\n48\n\n"
     ]
    }
   ],
   "source": [
    "# check data once you remove \n",
    "ups  = pd.read_csv(\"../protein_groups/proteinGroups_UPS_remove_contaminent_flag_on_spiked_proteins.txt\", sep = \"\\t\")\n",
    "cols = ['Reverse','Only identified by site','Potential contaminant']\n",
    "for col in cols:\n",
    "    print(col)\n",
    "    print(ups.shape)\n",
    "    print(len(ups[\"Majority protein IDs\"][ups[\"Majority protein IDs\"].str.contains(\"ups\")].unique()))\n",
    "    print(\"apply filter\")\n",
    "    ups = ups[ups[col] != \"+\"]\n",
    "    print(ups.shape)\n",
    "    print(len(ups[\"Majority protein IDs\"][ups[\"Majority protein IDs\"].str.contains(\"ups\")].unique()))\n",
    "    print()\n",
    "    "
   ]
  },
  {
   "source": [
    "## Perfect!"
   ],
   "cell_type": "markdown",
   "metadata": {}
  },
  {
   "source": [
    "# Missing Data in Perseus Output: Work out Why"
   ],
   "cell_type": "markdown",
   "metadata": {}
  },
  {
   "cell_type": "code",
   "execution_count": 14,
   "metadata": {},
   "outputs": [
    {
     "output_type": "execute_result",
     "data": {
      "text/plain": [
       "       Intensity  Intensity 1_01  Intensity 1_02  Intensity 1_03  \\\n",
       "6  1075600000000     64679000000     80769000000     49582000000   \n",
       "\n",
       "   Intensity 1_04  Intensity 2_01  Intensity 2_02  Intensity 2_03  \\\n",
       "6     85044000000    242530000000    161020000000    214660000000   \n",
       "\n",
       "   Intensity 2_04  \n",
       "6    177350000000  "
      ],
      "text/html": "<div>\n<style scoped>\n    .dataframe tbody tr th:only-of-type {\n        vertical-align: middle;\n    }\n\n    .dataframe tbody tr th {\n        vertical-align: top;\n    }\n\n    .dataframe thead th {\n        text-align: right;\n    }\n</style>\n<table border=\"1\" class=\"dataframe\">\n  <thead>\n    <tr style=\"text-align: right;\">\n      <th></th>\n      <th>Intensity</th>\n      <th>Intensity 1_01</th>\n      <th>Intensity 1_02</th>\n      <th>Intensity 1_03</th>\n      <th>Intensity 1_04</th>\n      <th>Intensity 2_01</th>\n      <th>Intensity 2_02</th>\n      <th>Intensity 2_03</th>\n      <th>Intensity 2_04</th>\n    </tr>\n  </thead>\n  <tbody>\n    <tr>\n      <th>6</th>\n      <td>1075600000000</td>\n      <td>64679000000</td>\n      <td>80769000000</td>\n      <td>49582000000</td>\n      <td>85044000000</td>\n      <td>242530000000</td>\n      <td>161020000000</td>\n      <td>214660000000</td>\n      <td>177350000000</td>\n    </tr>\n  </tbody>\n</table>\n</div>"
     },
     "metadata": {},
     "execution_count": 14
    }
   ],
   "source": [
    "ups  = pd.read_csv(\"../protein_groups/proteinGroups_UPS.txt\", sep = \"\\t\")\n",
    "ups[ups[\"Majority protein IDs\"].str.contains(\"P02768\")].filter(regex = \"Intensity\")"
   ]
  },
  {
   "cell_type": "code",
   "execution_count": 15,
   "metadata": {},
   "outputs": [
    {
     "output_type": "execute_result",
     "data": {
      "text/plain": [
       "      Intensity  Intensity 1_01  Intensity 1_02  Intensity 1_03  \\\n",
       "22  32555000000      4383600000      9178200000      7376200000   \n",
       "\n",
       "    Intensity 1_04  Intensity 2_01  Intensity 2_02  Intensity 2_03  \\\n",
       "22     11617000000               0               0               0   \n",
       "\n",
       "    Intensity 2_04  \n",
       "22               0  "
      ],
      "text/html": "<div>\n<style scoped>\n    .dataframe tbody tr th:only-of-type {\n        vertical-align: middle;\n    }\n\n    .dataframe tbody tr th {\n        vertical-align: top;\n    }\n\n    .dataframe thead th {\n        text-align: right;\n    }\n</style>\n<table border=\"1\" class=\"dataframe\">\n  <thead>\n    <tr style=\"text-align: right;\">\n      <th></th>\n      <th>Intensity</th>\n      <th>Intensity 1_01</th>\n      <th>Intensity 1_02</th>\n      <th>Intensity 1_03</th>\n      <th>Intensity 1_04</th>\n      <th>Intensity 2_01</th>\n      <th>Intensity 2_02</th>\n      <th>Intensity 2_03</th>\n      <th>Intensity 2_04</th>\n    </tr>\n  </thead>\n  <tbody>\n    <tr>\n      <th>22</th>\n      <td>32555000000</td>\n      <td>4383600000</td>\n      <td>9178200000</td>\n      <td>7376200000</td>\n      <td>11617000000</td>\n      <td>0</td>\n      <td>0</td>\n      <td>0</td>\n      <td>0</td>\n    </tr>\n  </tbody>\n</table>\n</div>"
     },
     "metadata": {},
     "execution_count": 15
    }
   ],
   "source": [
    "ups[ups[\"Majority protein IDs\"].str.contains(\"O00762\")].filter(regex = \"Intensity\") # This one can be explained by missing values. "
   ]
  },
  {
   "cell_type": "code",
   "execution_count": null,
   "metadata": {},
   "outputs": [],
   "source": [
    "ups[ups[\"Majority protein IDs\"].str.contains(\"O00762\")].filter(regex = \"Intensity\")"
   ]
  },
  {
   "cell_type": "code",
   "execution_count": null,
   "metadata": {},
   "outputs": [],
   "source": []
  }
 ]
}